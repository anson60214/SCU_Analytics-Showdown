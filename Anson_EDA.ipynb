{
 "cells": [
  {
   "cell_type": "code",
   "execution_count": 2,
   "metadata": {},
   "outputs": [],
   "source": [
    "# Common imports\n",
    "import numpy as np\n",
    "import pandas as pd\n",
    "import matplotlib.pyplot as plt\n",
    "\n",
    "from IPython.core.interactiveshell import InteractiveShell\n",
    "InteractiveShell.ast_node_interactivity = \"all\""
   ]
  },
  {
   "cell_type": "code",
   "execution_count": 3,
   "metadata": {},
   "outputs": [],
   "source": [
    "df_Clients_Accounts = pd.read_excel(\"data/Analytics Showdown Data (Koolboks).xlsx\",sheet_name=\"Clients_Accounts\")\n",
    "df_Payments = pd.read_excel(\"data/Analytics Showdown Data (Koolboks).xlsx\",sheet_name=\"Payments\")\n",
    "#df_Pricing_Groups = pd.read_excel(\"data/Analytics Showdown Data (Koolboks).xlsx\",sheet_name=\"Pricing_Groups\")"
   ]
  },
  {
   "cell_type": "markdown",
   "metadata": {},
   "source": [
    "# Feature EDA"
   ]
  },
  {
   "cell_type": "code",
   "execution_count": 3,
   "metadata": {},
   "outputs": [
    {
     "data": {
      "text/plain": [
       "Index(['account_qid', 'group_name', 'product', 'product_size', 'group_qid',\n",
       "       'billing_model', 'currency', 'down_payment',\n",
       "       'down_payment_days_included', 'minimum_payment', 'full_price',\n",
       "       'payment_amount_per_period', 'payment_period_in_days',\n",
       "       'nominal_term_days', 'registration_date', 'total_paid', 'status',\n",
       "       'cumulative_days_disabled', 'latest_payment_date', 'days_to_cutoff',\n",
       "       'payment_due_date', 'state', 'lga', 'geolocation', 'gender',\n",
       "       'client_date_of_birth', 'occupation', 'business_type', 'business_size',\n",
       "       'monthly_generated_income', 'lead_source', 'product_use'],\n",
       "      dtype='object')"
      ]
     },
     "execution_count": 3,
     "metadata": {},
     "output_type": "execute_result"
    }
   ],
   "source": [
    "df_Clients_Accounts.columns"
   ]
  },
  {
   "cell_type": "markdown",
   "metadata": {},
   "source": [
    "## billing_model"
   ]
  },
  {
   "cell_type": "code",
   "execution_count": 4,
   "metadata": {},
   "outputs": [
    {
     "data": {
      "text/plain": [
       "billing_model\n",
       "Direct_Sale    1091\n",
       "PAYG           1812\n",
       "Name: billing_model, dtype: int64"
      ]
     },
     "execution_count": 4,
     "metadata": {},
     "output_type": "execute_result"
    }
   ],
   "source": [
    "df_Clients_Accounts.groupby(\"billing_model\")['billing_model'].count()"
   ]
  },
  {
   "cell_type": "code",
   "execution_count": 5,
   "metadata": {},
   "outputs": [],
   "source": [
    "df_Clients_PAYG = df_Clients_Accounts[df_Clients_Accounts['billing_model']==\"PAYG\"]"
   ]
  },
  {
   "cell_type": "markdown",
   "metadata": {},
   "source": [
    "## cumulative_days_disabled"
   ]
  },
  {
   "cell_type": "code",
   "execution_count": 6,
   "metadata": {},
   "outputs": [
    {
     "name": "stdout",
     "output_type": "stream",
     "text": [
      "the number of 0 in cumulative_days_disabled:  422\n",
      "the number of non 0 in cumulative_days_disabled:  1390\n"
     ]
    }
   ],
   "source": [
    "print(\"the number of 0 in cumulative_days_disabled: \", sum(df_Clients_PAYG.cumulative_days_disabled == 0) )\n",
    "print(\"the number of non 0 in cumulative_days_disabled: \", sum(df_Clients_PAYG.cumulative_days_disabled != 0) )"
   ]
  },
  {
   "cell_type": "code",
   "execution_count": 7,
   "metadata": {},
   "outputs": [
    {
     "data": {
      "text/plain": [
       "(array([753., 281., 140.,  85.,  64.,  31.,  28.,   4.,   1.,   3.]),\n",
       " array([  1. ,  80.8, 160.6, 240.4, 320.2, 400. , 479.8, 559.6, 639.4,\n",
       "        719.2, 799. ]),\n",
       " <BarContainer object of 10 artists>)"
      ]
     },
     "execution_count": 7,
     "metadata": {},
     "output_type": "execute_result"
    },
    {
     "data": {
      "text/plain": [
       "Text(0.5, 1.0, 'Histogram of Cumulative Days Disabled (Excluding Zeros)')"
      ]
     },
     "execution_count": 7,
     "metadata": {},
     "output_type": "execute_result"
    },
    {
     "data": {
      "text/plain": [
       "Text(0.5, 0, 'Cumulative Days Disabled')"
      ]
     },
     "execution_count": 7,
     "metadata": {},
     "output_type": "execute_result"
    },
    {
     "data": {
      "text/plain": [
       "Text(0, 0.5, 'Frequency')"
      ]
     },
     "execution_count": 7,
     "metadata": {},
     "output_type": "execute_result"
    },
    {
     "data": {
      "image/png": "[encoded data removed]",
      "text/plain": [
       "<Figure size 640x480 with 1 Axes>"
      ]
     },
     "metadata": {},
     "output_type": "display_data"
    }
   ],
   "source": [
    "plt.hist(df_Clients_PAYG[df_Clients_PAYG['cumulative_days_disabled'] != 0]['cumulative_days_disabled'],\n",
    "         bins=10, edgecolor='black')\n",
    "# Adding titles and labels\n",
    "plt.title('Histogram of Cumulative Days Disabled (Excluding Zeros)')\n",
    "plt.xlabel('Cumulative Days Disabled')\n",
    "plt.ylabel('Frequency')"
   ]
  },
  {
   "cell_type": "markdown",
   "metadata": {},
   "source": [
    "## status"
   ]
  },
  {
   "cell_type": "code",
   "execution_count": 8,
   "metadata": {},
   "outputs": [
    {
     "data": {
      "text/plain": [
       "status\n",
       "Disabled       299\n",
       "Enabled        555\n",
       "Repossessed    122\n",
       "Unlocked       836\n",
       "Name: status, dtype: int64"
      ]
     },
     "execution_count": 8,
     "metadata": {},
     "output_type": "execute_result"
    }
   ],
   "source": [
    "df_Clients_PAYG.groupby(\"status\")['status'].count()"
   ]
  },
  {
   "cell_type": "markdown",
   "metadata": {},
   "source": [
    "* disabled:\t Account status indicating that loan payments are overdue.\n",
    "\n",
    "* enabled:\t Account status indicating that loan payments are current.\n",
    "\n",
    "* unlocked:\t Account status indicating that loan is fully paid for"
   ]
  },
  {
   "cell_type": "markdown",
   "metadata": {},
   "source": [
    "## status + cumulative_days_disabled"
   ]
  },
  {
   "cell_type": "code",
   "execution_count": 9,
   "metadata": {},
   "outputs": [
    {
     "data": {
      "text/html": [
       "<div>\n",
       "<style scoped>\n",
       "    .dataframe tbody tr th:only-of-type {\n",
       "        vertical-align: middle;\n",
       "    }\n",
       "\n",
       "    .dataframe tbody tr th {\n",
       "        vertical-align: top;\n",
       "    }\n",
       "\n",
       "    .dataframe thead th {\n",
       "        text-align: right;\n",
       "    }\n",
       "</style>\n",
       "<table border=\"1\" class=\"dataframe\">\n",
       "  <thead>\n",
       "    <tr style=\"text-align: right;\">\n",
       "      <th></th>\n",
       "      <th>status</th>\n",
       "      <th>total_count</th>\n",
       "      <th>count_cumulative_days_disabled_0</th>\n",
       "      <th>count_cumulative_days_disabled_not_0</th>\n",
       "    </tr>\n",
       "  </thead>\n",
       "  <tbody>\n",
       "    <tr>\n",
       "      <th>0</th>\n",
       "      <td>Disabled</td>\n",
       "      <td>299</td>\n",
       "      <td>0</td>\n",
       "      <td>299</td>\n",
       "    </tr>\n",
       "    <tr>\n",
       "      <th>1</th>\n",
       "      <td>Enabled</td>\n",
       "      <td>555</td>\n",
       "      <td>114</td>\n",
       "      <td>441</td>\n",
       "    </tr>\n",
       "    <tr>\n",
       "      <th>2</th>\n",
       "      <td>Repossessed</td>\n",
       "      <td>122</td>\n",
       "      <td>72</td>\n",
       "      <td>50</td>\n",
       "    </tr>\n",
       "    <tr>\n",
       "      <th>3</th>\n",
       "      <td>Unlocked</td>\n",
       "      <td>836</td>\n",
       "      <td>236</td>\n",
       "      <td>600</td>\n",
       "    </tr>\n",
       "  </tbody>\n",
       "</table>\n",
       "</div>"
      ],
      "text/plain": [
       "        status  total_count  count_cumulative_days_disabled_0  \\\n",
       "0     Disabled          299                                 0   \n",
       "1      Enabled          555                               114   \n",
       "2  Repossessed          122                                72   \n",
       "3     Unlocked          836                               236   \n",
       "\n",
       "   count_cumulative_days_disabled_not_0  \n",
       "0                                   299  \n",
       "1                                   441  \n",
       "2                                    50  \n",
       "3                                   600  "
      ]
     },
     "execution_count": 9,
     "metadata": {},
     "output_type": "execute_result"
    }
   ],
   "source": [
    "# Group by 'status' and count where 'cumulative_days_disabled' is 0\n",
    "# Group by 'status' and perform multiple aggregations\n",
    "df_Clients_PAYG.groupby('status').agg(\n",
    "    total_count=('cumulative_days_disabled', 'count'),\n",
    "    count_cumulative_days_disabled_0=('cumulative_days_disabled', lambda x: (x == 0).sum()),\n",
    "    count_cumulative_days_disabled_not_0=('cumulative_days_disabled', lambda x: (x != 0).sum())\n",
    ").reset_index()"
   ]
  },
  {
   "cell_type": "markdown",
   "metadata": {},
   "source": [
    "## down_payment_days_included"
   ]
  },
  {
   "cell_type": "code",
   "execution_count": 10,
   "metadata": {},
   "outputs": [
    {
     "data": {
      "text/plain": [
       "down_payment_days_included\n",
       "0.0      597\n",
       "5.0        1\n",
       "6.0        1\n",
       "10.0       5\n",
       "15.0       1\n",
       "20.0       3\n",
       "23.0       1\n",
       "25.0       3\n",
       "26.0       1\n",
       "28.0       1\n",
       "29.0       1\n",
       "30.0     972\n",
       "34.0       1\n",
       "36.0       1\n",
       "40.0       1\n",
       "43.0       1\n",
       "50.0       2\n",
       "55.0       1\n",
       "57.0       2\n",
       "60.0       6\n",
       "64.0       1\n",
       "70.0       1\n",
       "75.0       2\n",
       "80.0       1\n",
       "90.0       2\n",
       "101.0      1\n",
       "107.0      1\n",
       "109.0      1\n",
       "120.0      4\n",
       "140.0      1\n",
       "150.0      1\n",
       "176.0      1\n",
       "180.0      1\n",
       "350.0      1\n",
       "Name: down_payment_days_included, dtype: int64"
      ]
     },
     "execution_count": 10,
     "metadata": {},
     "output_type": "execute_result"
    }
   ],
   "source": [
    "df_Clients_PAYG.groupby('down_payment_days_included')['down_payment_days_included'].count()"
   ]
  },
  {
   "cell_type": "markdown",
   "metadata": {},
   "source": [
    "## payment_period_in_days"
   ]
  },
  {
   "cell_type": "code",
   "execution_count": 11,
   "metadata": {},
   "outputs": [
    {
     "data": {
      "text/plain": [
       "payment_period_in_days\n",
       "7.0       58\n",
       "14.0       6\n",
       "30.0    1556\n",
       "60.0       1\n",
       "Name: payment_period_in_days, dtype: int64"
      ]
     },
     "execution_count": 11,
     "metadata": {},
     "output_type": "execute_result"
    }
   ],
   "source": [
    "df_Clients_PAYG.groupby('payment_period_in_days')['payment_period_in_days'].count()"
   ]
  },
  {
   "cell_type": "markdown",
   "metadata": {},
   "source": [
    "## product"
   ]
  },
  {
   "cell_type": "code",
   "execution_count": 12,
   "metadata": {},
   "outputs": [
    {
     "data": {
      "text/plain": [
       "21"
      ]
     },
     "execution_count": 12,
     "metadata": {},
     "output_type": "execute_result"
    }
   ],
   "source": [
    "df_Clients_PAYG['product'].nunique()"
   ]
  },
  {
   "cell_type": "code",
   "execution_count": 13,
   "metadata": {},
   "outputs": [
    {
     "data": {
      "text/plain": [
       "product\n",
       "108L Freezer - Legacy                      102\n",
       "108L Freezer Non-PAYGO                      27\n",
       "108L Non-PAYGO                              25\n",
       "119L Non-PAYGO                               1\n",
       "1280L Freezer - Legacy                       2\n",
       "1280L Non-PAYGO                              2\n",
       "158L Freezer - Legacy                       62\n",
       "158L Non-PAYGO                              51\n",
       "195L Icemaker Non-Paygo                     23\n",
       "208L Freezer - Legacy                      208\n",
       "208L Non-PAYGO                              70\n",
       "538L Freezer - Legacy                      202\n",
       "538L Freezer - Outright (2021-2022 Aug)      1\n",
       "538L Non-PAYGO                              61\n",
       "540L Freezer - Legacy Custom                 2\n",
       "700L Freezer - Legacy                        1\n",
       "Koolpaygo                                  572\n",
       "Koolpaygo - Non PAYG                        30\n",
       "Koolpaygo 158L                              84\n",
       "Koolpaygo 208L                             148\n",
       "Koolpaygo 538L                             138\n",
       "Name: product, dtype: int64"
      ]
     },
     "execution_count": 13,
     "metadata": {},
     "output_type": "execute_result"
    }
   ],
   "source": [
    "df_Clients_PAYG.groupby(\"product\")['product'].count()"
   ]
  },
  {
   "cell_type": "markdown",
   "metadata": {},
   "source": [
    "## full_price"
   ]
  },
  {
   "cell_type": "code",
   "execution_count": 14,
   "metadata": {},
   "outputs": [
    {
     "data": {
      "text/plain": [
       "<Figure size 800x600 with 0 Axes>"
      ]
     },
     "execution_count": 14,
     "metadata": {},
     "output_type": "execute_result"
    },
    {
     "data": {
      "text/plain": [
       "(array([344., 703., 472., 179.,  56.,  52.,   4.,   0.,   1.,   1.]),\n",
       " array([ 105000. ,  543544.5,  982089. , 1420633.5, 1859178. , 2297722.5,\n",
       "        2736267. , 3174811.5, 3613356. , 4051900.5, 4490445. ]),\n",
       " <BarContainer object of 10 artists>)"
      ]
     },
     "execution_count": 14,
     "metadata": {},
     "output_type": "execute_result"
    },
    {
     "data": {
      "text/plain": [
       "Text(0.5, 1.0, 'Histogram of Full Price')"
      ]
     },
     "execution_count": 14,
     "metadata": {},
     "output_type": "execute_result"
    },
    {
     "data": {
      "text/plain": [
       "Text(0.5, 0, 'Full Price')"
      ]
     },
     "execution_count": 14,
     "metadata": {},
     "output_type": "execute_result"
    },
    {
     "data": {
      "text/plain": [
       "Text(0, 0.5, 'Frequency')"
      ]
     },
     "execution_count": 14,
     "metadata": {},
     "output_type": "execute_result"
    },
    {
     "data": {
      "image/png": "[encoded data removed]",
      "text/plain": [
       "<Figure size 800x600 with 1 Axes>"
      ]
     },
     "metadata": {},
     "output_type": "display_data"
    }
   ],
   "source": [
    "# Plotting a histogram of 'full_price'\n",
    "plt.figure(figsize=(8, 6))\n",
    "plt.hist(df_Clients_PAYG['full_price'], bins=10, edgecolor='black')\n",
    "plt.title('Histogram of Full Price')\n",
    "plt.xlabel('Full Price')\n",
    "plt.ylabel('Frequency')\n",
    "plt.show()"
   ]
  },
  {
   "cell_type": "markdown",
   "metadata": {},
   "source": [
    "## registration_date"
   ]
  },
  {
   "cell_type": "code",
   "execution_count": 15,
   "metadata": {},
   "outputs": [
    {
     "name": "stderr",
     "output_type": "stream",
     "text": [
      "C:\\Users\\anson\\AppData\\Local\\Temp\\ipykernel_23132\\3762986544.py:3: SettingWithCopyWarning: \n",
      "A value is trying to be set on a copy of a slice from a DataFrame.\n",
      "Try using .loc[row_indexer,col_indexer] = value instead\n",
      "\n",
      "See the caveats in the documentation: https://pandas.pydata.org/pandas-docs/stable/user_guide/indexing.html#returning-a-view-versus-a-copy\n",
      "  df_Clients_PAYG[\"registration_date\"] = pd.to_datetime(df_Clients_PAYG['registration_date'])\n"
     ]
    },
    {
     "data": {
      "text/plain": [
       "<Figure size 1200x600 with 0 Axes>"
      ]
     },
     "execution_count": 15,
     "metadata": {},
     "output_type": "execute_result"
    },
    {
     "data": {
      "text/plain": [
       "<BarContainer object of 512 artists>"
      ]
     },
     "execution_count": 15,
     "metadata": {},
     "output_type": "execute_result"
    },
    {
     "data": {
      "text/plain": [
       "Text(0.5, 1.0, 'Frequency of registration_datee')"
      ]
     },
     "execution_count": 15,
     "metadata": {},
     "output_type": "execute_result"
    },
    {
     "data": {
      "text/plain": [
       "Text(0.5, 0, 'Date')"
      ]
     },
     "execution_count": 15,
     "metadata": {},
     "output_type": "execute_result"
    },
    {
     "data": {
      "text/plain": [
       "Text(0, 0.5, 'Frequency')"
      ]
     },
     "execution_count": 15,
     "metadata": {},
     "output_type": "execute_result"
    },
    {
     "data": {
      "text/plain": [
       "(array([18597., 18628., 18659., 18687., 18718., 18748., 18779., 18809.,\n",
       "        18840., 18871., 18901., 18932., 18962., 18993., 19024., 19052.,\n",
       "        19083., 19113., 19144., 19174., 19205., 19236., 19266., 19297.,\n",
       "        19327., 19358., 19389., 19417., 19448., 19478., 19509., 19539.,\n",
       "        19570., 19601., 19631., 19662., 19692., 19723., 19754., 19783.,\n",
       "        19814., 19844.]),\n",
       " [Text(18597.0, 0, '12-2020'),\n",
       "  Text(18628.0, 0, '01-2021'),\n",
       "  Text(18659.0, 0, '02-2021'),\n",
       "  Text(18687.0, 0, '03-2021'),\n",
       "  Text(18718.0, 0, '04-2021'),\n",
       "  Text(18748.0, 0, '05-2021'),\n",
       "  Text(18779.0, 0, '06-2021'),\n",
       "  Text(18809.0, 0, '07-2021'),\n",
       "  Text(18840.0, 0, '08-2021'),\n",
       "  Text(18871.0, 0, '09-2021'),\n",
       "  Text(18901.0, 0, '10-2021'),\n",
       "  Text(18932.0, 0, '11-2021'),\n",
       "  Text(18962.0, 0, '12-2021'),\n",
       "  Text(18993.0, 0, '01-2022'),\n",
       "  Text(19024.0, 0, '02-2022'),\n",
       "  Text(19052.0, 0, '03-2022'),\n",
       "  Text(19083.0, 0, '04-2022'),\n",
       "  Text(19113.0, 0, '05-2022'),\n",
       "  Text(19144.0, 0, '06-2022'),\n",
       "  Text(19174.0, 0, '07-2022'),\n",
       "  Text(19205.0, 0, '08-2022'),\n",
       "  Text(19236.0, 0, '09-2022'),\n",
       "  Text(19266.0, 0, '10-2022'),\n",
       "  Text(19297.0, 0, '11-2022'),\n",
       "  Text(19327.0, 0, '12-2022'),\n",
       "  Text(19358.0, 0, '01-2023'),\n",
       "  Text(19389.0, 0, '02-2023'),\n",
       "  Text(19417.0, 0, '03-2023'),\n",
       "  Text(19448.0, 0, '04-2023'),\n",
       "  Text(19478.0, 0, '05-2023'),\n",
       "  Text(19509.0, 0, '06-2023'),\n",
       "  Text(19539.0, 0, '07-2023'),\n",
       "  Text(19570.0, 0, '08-2023'),\n",
       "  Text(19601.0, 0, '09-2023'),\n",
       "  Text(19631.0, 0, '10-2023'),\n",
       "  Text(19662.0, 0, '11-2023'),\n",
       "  Text(19692.0, 0, '12-2023'),\n",
       "  Text(19723.0, 0, '01-2024'),\n",
       "  Text(19754.0, 0, '02-2024'),\n",
       "  Text(19783.0, 0, '03-2024'),\n",
       "  Text(19814.0, 0, '04-2024'),\n",
       "  Text(19844.0, 0, '05-2024')])"
      ]
     },
     "execution_count": 15,
     "metadata": {},
     "output_type": "execute_result"
    },
    {
     "data": {
      "image/png": "[encoded data removed]",
      "text/plain": [
       "<Figure size 1200x600 with 1 Axes>"
      ]
     },
     "metadata": {},
     "output_type": "display_data"
    }
   ],
   "source": [
    "import matplotlib.dates as mdates\n",
    "\n",
    "df_Clients_PAYG[\"registration_date\"] = pd.to_datetime(df_Clients_PAYG['registration_date'])\n",
    "\n",
    "frequency = df_Clients_PAYG.groupby('registration_date',as_index=False).size()\n",
    "\n",
    "# Plotting the frequency over time\n",
    "plt.figure(figsize=(12, 6))\n",
    "plt.bar(frequency['registration_date'], frequency['size'], width=10)\n",
    "# Format the x-axis to show months\n",
    "ax = plt.gca()\n",
    "ax.xaxis.set_major_locator(mdates.MonthLocator())\n",
    "ax.xaxis.set_major_formatter(mdates.DateFormatter('%m-%Y'))\n",
    "\n",
    "plt.title('Frequency of registration_datee')\n",
    "plt.xlabel('Date')\n",
    "plt.ylabel('Frequency')\n",
    "plt.xticks(rotation=45)\n",
    "plt.tight_layout()\n",
    "plt.show()"
   ]
  },
  {
   "cell_type": "markdown",
   "metadata": {},
   "source": [
    "## registration_date"
   ]
  },
  {
   "cell_type": "code",
   "execution_count": 16,
   "metadata": {},
   "outputs": [
    {
     "name": "stderr",
     "output_type": "stream",
     "text": [
      "C:\\Users\\anson\\AppData\\Local\\Temp\\ipykernel_23132\\3762986544.py:3: SettingWithCopyWarning: \n",
      "A value is trying to be set on a copy of a slice from a DataFrame.\n",
      "Try using .loc[row_indexer,col_indexer] = value instead\n",
      "\n",
      "See the caveats in the documentation: https://pandas.pydata.org/pandas-docs/stable/user_guide/indexing.html#returning-a-view-versus-a-copy\n",
      "  df_Clients_PAYG[\"registration_date\"] = pd.to_datetime(df_Clients_PAYG['registration_date'])\n"
     ]
    },
    {
     "data": {
      "text/plain": [
       "<Figure size 1200x600 with 0 Axes>"
      ]
     },
     "execution_count": 16,
     "metadata": {},
     "output_type": "execute_result"
    },
    {
     "data": {
      "text/plain": [
       "<BarContainer object of 512 artists>"
      ]
     },
     "execution_count": 16,
     "metadata": {},
     "output_type": "execute_result"
    },
    {
     "data": {
      "text/plain": [
       "Text(0.5, 1.0, 'Frequency of registration_datee')"
      ]
     },
     "execution_count": 16,
     "metadata": {},
     "output_type": "execute_result"
    },
    {
     "data": {
      "text/plain": [
       "Text(0.5, 0, 'Date')"
      ]
     },
     "execution_count": 16,
     "metadata": {},
     "output_type": "execute_result"
    },
    {
     "data": {
      "text/plain": [
       "Text(0, 0.5, 'Frequency')"
      ]
     },
     "execution_count": 16,
     "metadata": {},
     "output_type": "execute_result"
    },
    {
     "data": {
      "text/plain": [
       "(array([18597., 18628., 18659., 18687., 18718., 18748., 18779., 18809.,\n",
       "        18840., 18871., 18901., 18932., 18962., 18993., 19024., 19052.,\n",
       "        19083., 19113., 19144., 19174., 19205., 19236., 19266., 19297.,\n",
       "        19327., 19358., 19389., 19417., 19448., 19478., 19509., 19539.,\n",
       "        19570., 19601., 19631., 19662., 19692., 19723., 19754., 19783.,\n",
       "        19814., 19844.]),\n",
       " [Text(18597.0, 0, '12-2020'),\n",
       "  Text(18628.0, 0, '01-2021'),\n",
       "  Text(18659.0, 0, '02-2021'),\n",
       "  Text(18687.0, 0, '03-2021'),\n",
       "  Text(18718.0, 0, '04-2021'),\n",
       "  Text(18748.0, 0, '05-2021'),\n",
       "  Text(18779.0, 0, '06-2021'),\n",
       "  Text(18809.0, 0, '07-2021'),\n",
       "  Text(18840.0, 0, '08-2021'),\n",
       "  Text(18871.0, 0, '09-2021'),\n",
       "  Text(18901.0, 0, '10-2021'),\n",
       "  Text(18932.0, 0, '11-2021'),\n",
       "  Text(18962.0, 0, '12-2021'),\n",
       "  Text(18993.0, 0, '01-2022'),\n",
       "  Text(19024.0, 0, '02-2022'),\n",
       "  Text(19052.0, 0, '03-2022'),\n",
       "  Text(19083.0, 0, '04-2022'),\n",
       "  Text(19113.0, 0, '05-2022'),\n",
       "  Text(19144.0, 0, '06-2022'),\n",
       "  Text(19174.0, 0, '07-2022'),\n",
       "  Text(19205.0, 0, '08-2022'),\n",
       "  Text(19236.0, 0, '09-2022'),\n",
       "  Text(19266.0, 0, '10-2022'),\n",
       "  Text(19297.0, 0, '11-2022'),\n",
       "  Text(19327.0, 0, '12-2022'),\n",
       "  Text(19358.0, 0, '01-2023'),\n",
       "  Text(19389.0, 0, '02-2023'),\n",
       "  Text(19417.0, 0, '03-2023'),\n",
       "  Text(19448.0, 0, '04-2023'),\n",
       "  Text(19478.0, 0, '05-2023'),\n",
       "  Text(19509.0, 0, '06-2023'),\n",
       "  Text(19539.0, 0, '07-2023'),\n",
       "  Text(19570.0, 0, '08-2023'),\n",
       "  Text(19601.0, 0, '09-2023'),\n",
       "  Text(19631.0, 0, '10-2023'),\n",
       "  Text(19662.0, 0, '11-2023'),\n",
       "  Text(19692.0, 0, '12-2023'),\n",
       "  Text(19723.0, 0, '01-2024'),\n",
       "  Text(19754.0, 0, '02-2024'),\n",
       "  Text(19783.0, 0, '03-2024'),\n",
       "  Text(19814.0, 0, '04-2024'),\n",
       "  Text(19844.0, 0, '05-2024')])"
      ]
     },
     "execution_count": 16,
     "metadata": {},
     "output_type": "execute_result"
    },
    {
     "data": {
      "image/png": "[encoded data removed]",
      "text/plain": [
       "<Figure size 1200x600 with 1 Axes>"
      ]
     },
     "metadata": {},
     "output_type": "display_data"
    }
   ],
   "source": [
    "import matplotlib.dates as mdates\n",
    "\n",
    "df_Clients_PAYG[\"registration_date\"] = pd.to_datetime(df_Clients_PAYG['registration_date'])\n",
    "\n",
    "frequency = df_Clients_PAYG.groupby('registration_date',as_index=False).size()\n",
    "\n",
    "# Plotting the frequency over time\n",
    "plt.figure(figsize=(12, 6))\n",
    "plt.bar(frequency['registration_date'], frequency['size'], width=10)\n",
    "# Format the x-axis to show months\n",
    "ax = plt.gca()\n",
    "ax.xaxis.set_major_locator(mdates.MonthLocator())\n",
    "ax.xaxis.set_major_formatter(mdates.DateFormatter('%m-%Y'))\n",
    "\n",
    "plt.title('Frequency of registration_datee')\n",
    "plt.xlabel('Date')\n",
    "plt.ylabel('Frequency')\n",
    "plt.xticks(rotation=45)\n",
    "plt.tight_layout()\n",
    "plt.show()"
   ]
  },
  {
   "cell_type": "markdown",
   "metadata": {},
   "source": [
    "## categorical"
   ]
  },
  {
   "cell_type": "code",
   "execution_count": 17,
   "metadata": {},
   "outputs": [
    {
     "data": {
      "text/plain": [
       "state\n",
       "Abia                           1\n",
       "Adamawa                        1\n",
       "Akwa Ibom                      4\n",
       "Anambra                        6\n",
       "Bayelsa                        2\n",
       "Cross River                    5\n",
       "Delta                         22\n",
       "Edo                           28\n",
       "Ekiti                         23\n",
       "Enugu                         11\n",
       "Federal Capital Territory     11\n",
       "Imo                            6\n",
       "Kaduna                         2\n",
       "Kano                          16\n",
       "Kebbi                          1\n",
       "Kogi                           5\n",
       "Kwara                         82\n",
       "Lagos                        451\n",
       "Nasarawa                       4\n",
       "Niger                          1\n",
       "Not indicated                177\n",
       "Ogun                         497\n",
       "Ondo                         113\n",
       "Osun                          34\n",
       "Oyo                          286\n",
       "Plateau                       14\n",
       "Rivers                         6\n",
       "Sokoto                         1\n",
       "Zamfara                        1\n",
       "Name: state, dtype: int64"
      ]
     },
     "execution_count": 17,
     "metadata": {},
     "output_type": "execute_result"
    }
   ],
   "source": [
    "df_Clients_PAYG.groupby(\"state\")[\"state\"].count()"
   ]
  },
  {
   "cell_type": "code",
   "execution_count": 18,
   "metadata": {},
   "outputs": [
    {
     "data": {
      "text/plain": [
       "lga\n",
       "Aba North           1\n",
       "Abaji               1\n",
       "Abeokuta North     24\n",
       "Abeokuta South     23\n",
       "Abuja Municipal     6\n",
       "                   ..\n",
       "Yenegoa             1\n",
       "Yewa North          2\n",
       "Yewa South          4\n",
       "Yola South          1\n",
       "Zurmi               1\n",
       "Name: lga, Length: 185, dtype: int64"
      ]
     },
     "execution_count": 18,
     "metadata": {},
     "output_type": "execute_result"
    }
   ],
   "source": [
    "df_Clients_PAYG.groupby(\"lga\")[\"lga\"].count()"
   ]
  },
  {
   "cell_type": "code",
   "execution_count": 19,
   "metadata": {},
   "outputs": [
    {
     "data": {
      "text/plain": [
       "gender\n",
       "Female    1063\n",
       "Male       646\n",
       "Name: gender, dtype: int64"
      ]
     },
     "execution_count": 19,
     "metadata": {},
     "output_type": "execute_result"
    }
   ],
   "source": [
    "df_Clients_PAYG.groupby(\"gender\")[\"gender\"].count()"
   ]
  },
  {
   "cell_type": "code",
   "execution_count": 20,
   "metadata": {},
   "outputs": [
    {
     "data": {
      "text/plain": [
       "occupation\n",
       "Administration               72\n",
       "Artist, Entertainment         9\n",
       "Construction                  9\n",
       "Cook (Food Service)          82\n",
       "Driver (Transportation)      12\n",
       "Electricity, Gas             10\n",
       "Farmer (Animals)             35\n",
       "Farmer (Crops)               31\n",
       "Furniture Production          4\n",
       "Health and Social Work       48\n",
       "Hotel (Accommodation)        15\n",
       "Manufacturing                14\n",
       "Merchant (Trade)            780\n",
       "Mining and Quarrying          2\n",
       "Repair of Motor Vehicles      5\n",
       "Security, Guard               5\n",
       "Teacher (Education)          40\n",
       "Textile Production            5\n",
       "Water Supply, Cleaning        7\n",
       "police officer                1\n",
       "Name: occupation, dtype: int64"
      ]
     },
     "execution_count": 20,
     "metadata": {},
     "output_type": "execute_result"
    }
   ],
   "source": [
    "df_Clients_PAYG.groupby(\"occupation\")[\"occupation\"].count()"
   ]
  },
  {
   "cell_type": "code",
   "execution_count": 21,
   "metadata": {},
   "outputs": [
    {
     "data": {
      "text/plain": [
       "business_type\n",
       "Beverages Dealer      399\n",
       "Civil Servant          62\n",
       "Corperate Worker        1\n",
       "Corporate Worker       59\n",
       "Frozen Food Seller    445\n",
       "Ice Block Seller      145\n",
       "Others                273\n",
       "Restaurants/Bar       149\n",
       "Name: business_type, dtype: int64"
      ]
     },
     "execution_count": 21,
     "metadata": {},
     "output_type": "execute_result"
    }
   ],
   "source": [
    "df_Clients_PAYG.groupby(\"business_type\")[\"business_type\"].count()"
   ]
  },
  {
   "cell_type": "code",
   "execution_count": 22,
   "metadata": {},
   "outputs": [
    {
     "data": {
      "text/plain": [
       "business_size\n",
       "Large      90\n",
       "Medium    321\n",
       "Small     148\n",
       "Name: business_size, dtype: int64"
      ]
     },
     "execution_count": 22,
     "metadata": {},
     "output_type": "execute_result"
    }
   ],
   "source": [
    "df_Clients_PAYG.groupby(\"business_size\")[\"business_size\"].count()"
   ]
  },
  {
   "cell_type": "code",
   "execution_count": 23,
   "metadata": {},
   "outputs": [
    {
     "data": {
      "text/plain": [
       "monthly_generated_income\n",
       "1,000,001 and Above      6\n",
       "100,001 – 150,000      337\n",
       "150,001 – 200,000      252\n",
       "200,001 – 250,000      191\n",
       "250,001 – 300,000      145\n",
       "300,001 – 400,000      115\n",
       "400,001 – 500,000      171\n",
       "50,000 and Below         3\n",
       "50,001 – 100,000       177\n",
       "500,001 – 1,000,000     54\n",
       "Name: monthly_generated_income, dtype: int64"
      ]
     },
     "execution_count": 23,
     "metadata": {},
     "output_type": "execute_result"
    }
   ],
   "source": [
    "df_Clients_PAYG.groupby(\"monthly_generated_income\")[\"monthly_generated_income\"].count()"
   ]
  },
  {
   "cell_type": "code",
   "execution_count": 24,
   "metadata": {},
   "outputs": [
    {
     "data": {
      "text/plain": [
       "lead_source\n",
       "DSA                66\n",
       "Email              20\n",
       "Existing Client     5\n",
       "Facebook Ads        7\n",
       "Other              89\n",
       "Referral           45\n",
       "Web Chat            4\n",
       "Website Visit       7\n",
       "Name: lead_source, dtype: int64"
      ]
     },
     "execution_count": 24,
     "metadata": {},
     "output_type": "execute_result"
    }
   ],
   "source": [
    "df_Clients_PAYG.groupby(\"lead_source\")[\"lead_source\"].count()"
   ]
  },
  {
   "cell_type": "code",
   "execution_count": 25,
   "metadata": {},
   "outputs": [
    {
     "data": {
      "text/plain": [
       "product_use\n",
       "Commercial    329\n",
       "Domestic       73\n",
       "Name: product_use, dtype: int64"
      ]
     },
     "execution_count": 25,
     "metadata": {},
     "output_type": "execute_result"
    }
   ],
   "source": [
    "df_Clients_PAYG.groupby(\"product_use\")[\"product_use\"].count()"
   ]
  },
  {
   "cell_type": "code",
   "execution_count": 26,
   "metadata": {},
   "outputs": [
    {
     "name": "stderr",
     "output_type": "stream",
     "text": [
      "C:\\Users\\anson\\AppData\\Local\\Temp\\ipykernel_23132\\2868048758.py:2: SettingWithCopyWarning: \n",
      "A value is trying to be set on a copy of a slice from a DataFrame.\n",
      "Try using .loc[row_indexer,col_indexer] = value instead\n",
      "\n",
      "See the caveats in the documentation: https://pandas.pydata.org/pandas-docs/stable/user_guide/indexing.html#returning-a-view-versus-a-copy\n",
      "  df_Clients_PAYG[['latitude', 'longitude']] = df_Clients_PAYG['geolocation'].str.split(',', expand=True)\n",
      "C:\\Users\\anson\\AppData\\Local\\Temp\\ipykernel_23132\\2868048758.py:2: SettingWithCopyWarning: \n",
      "A value is trying to be set on a copy of a slice from a DataFrame.\n",
      "Try using .loc[row_indexer,col_indexer] = value instead\n",
      "\n",
      "See the caveats in the documentation: https://pandas.pydata.org/pandas-docs/stable/user_guide/indexing.html#returning-a-view-versus-a-copy\n",
      "  df_Clients_PAYG[['latitude', 'longitude']] = df_Clients_PAYG['geolocation'].str.split(',', expand=True)\n",
      "C:\\Users\\anson\\AppData\\Local\\Temp\\ipykernel_23132\\2868048758.py:5: SettingWithCopyWarning: \n",
      "A value is trying to be set on a copy of a slice from a DataFrame.\n",
      "Try using .loc[row_indexer,col_indexer] = value instead\n",
      "\n",
      "See the caveats in the documentation: https://pandas.pydata.org/pandas-docs/stable/user_guide/indexing.html#returning-a-view-versus-a-copy\n",
      "  df_Clients_PAYG['latitude'] = pd.to_numeric(df_Clients_PAYG['latitude'])\n",
      "C:\\Users\\anson\\AppData\\Local\\Temp\\ipykernel_23132\\2868048758.py:6: SettingWithCopyWarning: \n",
      "A value is trying to be set on a copy of a slice from a DataFrame.\n",
      "Try using .loc[row_indexer,col_indexer] = value instead\n",
      "\n",
      "See the caveats in the documentation: https://pandas.pydata.org/pandas-docs/stable/user_guide/indexing.html#returning-a-view-versus-a-copy\n",
      "  df_Clients_PAYG['longitude'] = pd.to_numeric(df_Clients_PAYG['longitude'])\n"
     ]
    },
    {
     "data": {
      "text/plain": [
       "<Figure size 1000x600 with 0 Axes>"
      ]
     },
     "execution_count": 26,
     "metadata": {},
     "output_type": "execute_result"
    },
    {
     "data": {
      "text/plain": [
       "<matplotlib.collections.PathCollection at 0x14f179697d0>"
      ]
     },
     "execution_count": 26,
     "metadata": {},
     "output_type": "execute_result"
    },
    {
     "data": {
      "text/plain": [
       "Text(0.5, 1.0, 'Geolocation Scatter Plot')"
      ]
     },
     "execution_count": 26,
     "metadata": {},
     "output_type": "execute_result"
    },
    {
     "data": {
      "text/plain": [
       "Text(0.5, 0, 'Longitude')"
      ]
     },
     "execution_count": 26,
     "metadata": {},
     "output_type": "execute_result"
    },
    {
     "data": {
      "text/plain": [
       "Text(0, 0.5, 'Latitude')"
      ]
     },
     "execution_count": 26,
     "metadata": {},
     "output_type": "execute_result"
    },
    {
     "data": {
      "image/png": "[encoded data removed]",
      "text/plain": [
       "<Figure size 1000x600 with 1 Axes>"
      ]
     },
     "metadata": {},
     "output_type": "display_data"
    }
   ],
   "source": [
    "# Split 'geolocation' into 'latitude' and 'longitude'\n",
    "df_Clients_PAYG[['latitude', 'longitude']] = df_Clients_PAYG['geolocation'].str.split(',', expand=True)\n",
    "\n",
    "# Convert 'latitude' and 'longitude' to float\n",
    "df_Clients_PAYG['latitude'] = pd.to_numeric(df_Clients_PAYG['latitude'])\n",
    "df_Clients_PAYG['longitude'] = pd.to_numeric(df_Clients_PAYG['longitude'])\n",
    "\n",
    "# Plotting the data\n",
    "plt.figure(figsize=(10, 6))\n",
    "plt.scatter(df_Clients_PAYG['longitude'], df_Clients_PAYG['latitude'], color='blue', marker='o')\n",
    "\n",
    "plt.title('Geolocation Scatter Plot')\n",
    "plt.xlabel('Longitude')\n",
    "plt.ylabel('Latitude')\n",
    "plt.grid(True)\n",
    "plt.show()"
   ]
  },
  {
   "cell_type": "code",
   "execution_count": 27,
   "metadata": {},
   "outputs": [
    {
     "name": "stderr",
     "output_type": "stream",
     "text": [
      "C:\\Users\\anson\\AppData\\Local\\Temp\\ipykernel_23132\\1483661954.py:3: SettingWithCopyWarning: \n",
      "A value is trying to be set on a copy of a slice from a DataFrame.\n",
      "Try using .loc[row_indexer,col_indexer] = value instead\n",
      "\n",
      "See the caveats in the documentation: https://pandas.pydata.org/pandas-docs/stable/user_guide/indexing.html#returning-a-view-versus-a-copy\n",
      "  df_Clients_PAYG['client_date_of_birth'] = pd.to_datetime(df_Clients_PAYG['client_date_of_birth'])\n",
      "C:\\Users\\anson\\AppData\\Local\\Temp\\ipykernel_23132\\1483661954.py:7: SettingWithCopyWarning: \n",
      "A value is trying to be set on a copy of a slice from a DataFrame.\n",
      "Try using .loc[row_indexer,col_indexer] = value instead\n",
      "\n",
      "See the caveats in the documentation: https://pandas.pydata.org/pandas-docs/stable/user_guide/indexing.html#returning-a-view-versus-a-copy\n",
      "  df_Clients_PAYG['age'] = current_date.year - df_Clients_PAYG['client_date_of_birth'].dt.year\n"
     ]
    },
    {
     "data": {
      "text/plain": [
       "<Figure size 800x600 with 0 Axes>"
      ]
     },
     "execution_count": 27,
     "metadata": {},
     "output_type": "execute_result"
    },
    {
     "data": {
      "text/plain": [
       "(array([ 25.,   1.,   0.,   0.,   0.,   1.,  14.,  29.,  72.,  78., 116.,\n",
       "        122., 112., 106.,  47.,  66.,  34.,  15.,   8.,   4.]),\n",
       " array([ 0. ,  3.6,  7.2, 10.8, 14.4, 18. , 21.6, 25.2, 28.8, 32.4, 36. ,\n",
       "        39.6, 43.2, 46.8, 50.4, 54. , 57.6, 61.2, 64.8, 68.4, 72. ]),\n",
       " <BarContainer object of 20 artists>)"
      ]
     },
     "execution_count": 27,
     "metadata": {},
     "output_type": "execute_result"
    },
    {
     "data": {
      "text/plain": [
       "Text(0.5, 0, 'Age')"
      ]
     },
     "execution_count": 27,
     "metadata": {},
     "output_type": "execute_result"
    },
    {
     "data": {
      "text/plain": [
       "Text(0, 0.5, 'Freq')"
      ]
     },
     "execution_count": 27,
     "metadata": {},
     "output_type": "execute_result"
    },
    {
     "data": {
      "text/plain": [
       "Text(0.5, 1.0, 'Ages of Clients')"
      ]
     },
     "execution_count": 27,
     "metadata": {},
     "output_type": "execute_result"
    },
    {
     "data": {
      "image/png": "[encoded data removed]",
      "text/plain": [
       "<Figure size 800x600 with 1 Axes>"
      ]
     },
     "metadata": {},
     "output_type": "display_data"
    }
   ],
   "source": [
    "from datetime import datetime\n",
    "# Convert dates of birth to datetime objects\n",
    "df_Clients_PAYG['client_date_of_birth'] = pd.to_datetime(df_Clients_PAYG['client_date_of_birth'])\n",
    "\n",
    "# Calculate ages\n",
    "current_date = datetime.now()\n",
    "df_Clients_PAYG['age'] = current_date.year - df_Clients_PAYG['client_date_of_birth'].dt.year\n",
    "\n",
    "# Plot ages\n",
    "plt.figure(figsize=(8, 6))\n",
    "plt.hist(df_Clients_PAYG['age'],bins=20)\n",
    "plt.xlabel('Age')\n",
    "plt.ylabel('Freq')\n",
    "plt.title('Ages of Clients')\n",
    "plt.show()"
   ]
  },
  {
   "cell_type": "markdown",
   "metadata": {},
   "source": [
    "# Cluster"
   ]
  },
  {
   "cell_type": "code",
   "execution_count": 28,
   "metadata": {},
   "outputs": [],
   "source": [
    "import pandas as pd\n",
    "from sklearn.pipeline import make_pipeline\n",
    "from sklearn.preprocessing import StandardScaler\n",
    "from sklearn.impute import SimpleImputer\n",
    "from sklearn.cluster import KMeans\n",
    "from sklearn.decomposition import PCA\n",
    "import matplotlib.pyplot as plt"
   ]
  },
  {
   "cell_type": "code",
   "execution_count": 29,
   "metadata": {},
   "outputs": [],
   "source": [
    "# Select only the numerical columns\n",
    "X = df_Clients_PAYG.select_dtypes(include=['number']).copy()\n"
   ]
  },
  {
   "cell_type": "code",
   "execution_count": 30,
   "metadata": {},
   "outputs": [
    {
     "name": "stderr",
     "output_type": "stream",
     "text": [
      "c:\\Users\\anson\\anaconda3\\Lib\\site-packages\\sklearn\\cluster\\_kmeans.py:870: FutureWarning: The default value of `n_init` will change from 10 to 'auto' in 1.4. Set the value of `n_init` explicitly to suppress the warning\n",
      "  warnings.warn(\n",
      "c:\\Users\\anson\\anaconda3\\Lib\\site-packages\\sklearn\\cluster\\_kmeans.py:1382: UserWarning: KMeans is known to have a memory leak on Windows with MKL, when there are less chunks than available threads. You can avoid it by setting the environment variable OMP_NUM_THREADS=8.\n",
      "  warnings.warn(\n"
     ]
    },
    {
     "data": {
      "text/html": [
       "<style>#sk-container-id-1 {color: black;background-color: white;}#sk-container-id-1 pre{padding: 0;}#sk-container-id-1 div.sk-toggleable {background-color: white;}#sk-container-id-1 label.sk-toggleable__label {cursor: pointer;display: block;width: 100%;margin-bottom: 0;padding: 0.3em;box-sizing: border-box;text-align: center;}#sk-container-id-1 label.sk-toggleable__label-arrow:before {content: \"▸\";float: left;margin-right: 0.25em;color: #696969;}#sk-container-id-1 label.sk-toggleable__label-arrow:hover:before {color: black;}#sk-container-id-1 div.sk-estimator:hover label.sk-toggleable__label-arrow:before {color: black;}#sk-container-id-1 div.sk-toggleable__content {max-height: 0;max-width: 0;overflow: hidden;text-align: left;background-color: #f0f8ff;}#sk-container-id-1 div.sk-toggleable__content pre {margin: 0.2em;color: black;border-radius: 0.25em;background-color: #f0f8ff;}#sk-container-id-1 input.sk-toggleable__control:checked~div.sk-toggleable__content {max-height: 200px;max-width: 100%;overflow: auto;}#sk-container-id-1 input.sk-toggleable__control:checked~label.sk-toggleable__label-arrow:before {content: \"▾\";}#sk-container-id-1 div.sk-estimator input.sk-toggleable__control:checked~label.sk-toggleable__label {background-color: #d4ebff;}#sk-container-id-1 div.sk-label input.sk-toggleable__control:checked~label.sk-toggleable__label {background-color: #d4ebff;}#sk-container-id-1 input.sk-hidden--visually {border: 0;clip: rect(1px 1px 1px 1px);clip: rect(1px, 1px, 1px, 1px);height: 1px;margin: -1px;overflow: hidden;padding: 0;position: absolute;width: 1px;}#sk-container-id-1 div.sk-estimator {font-family: monospace;background-color: #f0f8ff;border: 1px dotted black;border-radius: 0.25em;box-sizing: border-box;margin-bottom: 0.5em;}#sk-container-id-1 div.sk-estimator:hover {background-color: #d4ebff;}#sk-container-id-1 div.sk-parallel-item::after {content: \"\";width: 100%;border-bottom: 1px solid gray;flex-grow: 1;}#sk-container-id-1 div.sk-label:hover label.sk-toggleable__label {background-color: #d4ebff;}#sk-container-id-1 div.sk-serial::before {content: \"\";position: absolute;border-left: 1px solid gray;box-sizing: border-box;top: 0;bottom: 0;left: 50%;z-index: 0;}#sk-container-id-1 div.sk-serial {display: flex;flex-direction: column;align-items: center;background-color: white;padding-right: 0.2em;padding-left: 0.2em;position: relative;}#sk-container-id-1 div.sk-item {position: relative;z-index: 1;}#sk-container-id-1 div.sk-parallel {display: flex;align-items: stretch;justify-content: center;background-color: white;position: relative;}#sk-container-id-1 div.sk-item::before, #sk-container-id-1 div.sk-parallel-item::before {content: \"\";position: absolute;border-left: 1px solid gray;box-sizing: border-box;top: 0;bottom: 0;left: 50%;z-index: -1;}#sk-container-id-1 div.sk-parallel-item {display: flex;flex-direction: column;z-index: 1;position: relative;background-color: white;}#sk-container-id-1 div.sk-parallel-item:first-child::after {align-self: flex-end;width: 50%;}#sk-container-id-1 div.sk-parallel-item:last-child::after {align-self: flex-start;width: 50%;}#sk-container-id-1 div.sk-parallel-item:only-child::after {width: 0;}#sk-container-id-1 div.sk-dashed-wrapped {border: 1px dashed gray;margin: 0 0.4em 0.5em 0.4em;box-sizing: border-box;padding-bottom: 0.4em;background-color: white;}#sk-container-id-1 div.sk-label label {font-family: monospace;font-weight: bold;display: inline-block;line-height: 1.2em;}#sk-container-id-1 div.sk-label-container {text-align: center;}#sk-container-id-1 div.sk-container {/* jupyter's `normalize.less` sets `[hidden] { display: none; }` but bootstrap.min.css set `[hidden] { display: none !important; }` so we also need the `!important` here to be able to override the default hidden behavior on the sphinx rendered scikit-learn.org. See: https://github.com/scikit-learn/scikit-learn/issues/21755 */display: inline-block !important;position: relative;}#sk-container-id-1 div.sk-text-repr-fallback {display: none;}</style><div id=\"sk-container-id-1\" class=\"sk-top-container\"><div class=\"sk-text-repr-fallback\"><pre>Pipeline(steps=[(&#x27;simpleimputer&#x27;, SimpleImputer()),\n",
       "                (&#x27;standardscaler&#x27;, StandardScaler()),\n",
       "                (&#x27;kmeans&#x27;, KMeans(n_clusters=2, random_state=0))])</pre><b>In a Jupyter environment, please rerun this cell to show the HTML representation or trust the notebook. <br />On GitHub, the HTML representation is unable to render, please try loading this page with nbviewer.org.</b></div><div class=\"sk-container\" hidden><div class=\"sk-item sk-dashed-wrapped\"><div class=\"sk-label-container\"><div class=\"sk-label sk-toggleable\"><input class=\"sk-toggleable__control sk-hidden--visually\" id=\"sk-estimator-id-1\" type=\"checkbox\" ><label for=\"sk-estimator-id-1\" class=\"sk-toggleable__label sk-toggleable__label-arrow\">Pipeline</label><div class=\"sk-toggleable__content\"><pre>Pipeline(steps=[(&#x27;simpleimputer&#x27;, SimpleImputer()),\n",
       "                (&#x27;standardscaler&#x27;, StandardScaler()),\n",
       "                (&#x27;kmeans&#x27;, KMeans(n_clusters=2, random_state=0))])</pre></div></div></div><div class=\"sk-serial\"><div class=\"sk-item\"><div class=\"sk-estimator sk-toggleable\"><input class=\"sk-toggleable__control sk-hidden--visually\" id=\"sk-estimator-id-2\" type=\"checkbox\" ><label for=\"sk-estimator-id-2\" class=\"sk-toggleable__label sk-toggleable__label-arrow\">SimpleImputer</label><div class=\"sk-toggleable__content\"><pre>SimpleImputer()</pre></div></div></div><div class=\"sk-item\"><div class=\"sk-estimator sk-toggleable\"><input class=\"sk-toggleable__control sk-hidden--visually\" id=\"sk-estimator-id-3\" type=\"checkbox\" ><label for=\"sk-estimator-id-3\" class=\"sk-toggleable__label sk-toggleable__label-arrow\">StandardScaler</label><div class=\"sk-toggleable__content\"><pre>StandardScaler()</pre></div></div></div><div class=\"sk-item\"><div class=\"sk-estimator sk-toggleable\"><input class=\"sk-toggleable__control sk-hidden--visually\" id=\"sk-estimator-id-4\" type=\"checkbox\" ><label for=\"sk-estimator-id-4\" class=\"sk-toggleable__label sk-toggleable__label-arrow\">KMeans</label><div class=\"sk-toggleable__content\"><pre>KMeans(n_clusters=2, random_state=0)</pre></div></div></div></div></div></div></div>"
      ],
      "text/plain": [
       "Pipeline(steps=[('simpleimputer', SimpleImputer()),\n",
       "                ('standardscaler', StandardScaler()),\n",
       "                ('kmeans', KMeans(n_clusters=2, random_state=0))])"
      ]
     },
     "execution_count": 30,
     "metadata": {},
     "output_type": "execute_result"
    },
    {
     "data": {
      "text/plain": [
       "<Figure size 800x600 with 0 Axes>"
      ]
     },
     "execution_count": 30,
     "metadata": {},
     "output_type": "execute_result"
    },
    {
     "data": {
      "text/plain": [
       "Text(0.5, 0, 'Principal Component 1')"
      ]
     },
     "execution_count": 30,
     "metadata": {},
     "output_type": "execute_result"
    },
    {
     "data": {
      "text/plain": [
       "Text(0, 0.5, 'Principal Component 2')"
      ]
     },
     "execution_count": 30,
     "metadata": {},
     "output_type": "execute_result"
    },
    {
     "data": {
      "text/plain": [
       "Text(0.5, 1.0, 'PCA of Clusters')"
      ]
     },
     "execution_count": 30,
     "metadata": {},
     "output_type": "execute_result"
    },
    {
     "data": {
      "text/plain": [
       "<matplotlib.colorbar.Colorbar at 0x14f1b857190>"
      ]
     },
     "execution_count": 30,
     "metadata": {},
     "output_type": "execute_result"
    },
    {
     "data": {
      "image/png": "[encoded data removed]",
      "text/plain": [
       "<Figure size 800x600 with 2 Axes>"
      ]
     },
     "metadata": {},
     "output_type": "display_data"
    }
   ],
   "source": [
    "# Create a pipeline for imputation, scaling, and clustering\n",
    "pipeline = make_pipeline(\n",
    "    SimpleImputer(strategy='mean'),  # Fill missing values with the mean\n",
    "    StandardScaler(),                # Scale the data\n",
    "    KMeans(n_clusters=2, random_state=0)  # Apply KMeans clustering\n",
    ")\n",
    "\n",
    "# Fit the pipeline to the data\n",
    "pipeline.fit(X)\n",
    "\n",
    "# Extract the KMeans model from the pipeline\n",
    "kmeans = pipeline.named_steps['kmeans']\n",
    "\n",
    "# Add cluster labels to the DataFrame\n",
    "X['cluster'] = kmeans.labels_\n",
    "\n",
    "# Create a separate pipeline for PCA with imputation and scaling\n",
    "pca_pipeline = make_pipeline(\n",
    "    SimpleImputer(strategy='mean'),  # Fill missing values with the mean\n",
    "    StandardScaler(),                # Scale the data\n",
    "    PCA(n_components=2)              # Apply PCA\n",
    ")\n",
    "\n",
    "# Fit and transform the data using the PCA pipeline\n",
    "pca_result = pca_pipeline.fit_transform(X.drop('cluster', axis=1))\n",
    "\n",
    "# Create a DataFrame with the PCA results\n",
    "pca_df = pd.DataFrame(data=pca_result, columns=['PC1', 'PC2'])\n",
    "pca_df['cluster'] = X['cluster']\n",
    "\n",
    "# Plot the PCA results with clusters in color\n",
    "plt.figure(figsize=(8, 6))\n",
    "scatter = plt.scatter(pca_df['PC1'], pca_df['PC2'], c=pca_df['cluster'], cmap='viridis')\n",
    "plt.xlabel('Principal Component 1')\n",
    "plt.ylabel('Principal Component 2')\n",
    "plt.title('PCA of Clusters')\n",
    "plt.colorbar(scatter, label='Cluster')\n",
    "plt.show()"
   ]
  },
  {
   "cell_type": "code",
   "execution_count": null,
   "metadata": {},
   "outputs": [],
   "source": []
  }
 ],
 "metadata": {
  "kernelspec": {
   "display_name": "base",
   "language": "python",
   "name": "python3"
  },
  "language_info": {
   "codemirror_mode": {
    "name": "ipython",
    "version": 3
   },
   "file_extension": ".py",
   "mimetype": "text/x-python",
   "name": "python",
   "nbconvert_exporter": "python",
   "pygments_lexer": "ipython3",
   "version": "3.11.5"
  }
 },
 "nbformat": 4,
 "nbformat_minor": 2
}
