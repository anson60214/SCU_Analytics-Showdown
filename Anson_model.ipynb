{
 "cells": [
  {
   "cell_type": "code",
   "execution_count": 1,
   "metadata": {},
   "outputs": [],
   "source": [
    "# Common imports\n",
    "import numpy as np\n",
    "import pandas as pd\n",
    "import matplotlib.pyplot as plt\n",
    "\n",
    "from IPython.core.interactiveshell import InteractiveShell\n",
    "InteractiveShell.ast_node_interactivity = \"all\""
   ]
  },
  {
   "cell_type": "code",
   "execution_count": 2,
   "metadata": {},
   "outputs": [],
   "source": [
    "df_Clients_Accounts = pd.read_excel(\"data/Analytics Showdown Data (Koolboks).xlsx\",sheet_name=\"Clients_Accounts\")\n",
    "df_Payments = pd.read_excel(\"data/Analytics Showdown Data (Koolboks).xlsx\",sheet_name=\"Payments\")"
   ]
  },
  {
   "cell_type": "code",
   "execution_count": 3,
   "metadata": {},
   "outputs": [
    {
     "name": "stderr",
     "output_type": "stream",
     "text": [
      "c:\\Users\\anson\\anaconda3\\Lib\\site-packages\\sklearn\\cluster\\_kmeans.py:870: FutureWarning: The default value of `n_init` will change from 10 to 'auto' in 1.4. Set the value of `n_init` explicitly to suppress the warning\n",
      "  warnings.warn(\n",
      "c:\\Users\\anson\\anaconda3\\Lib\\site-packages\\sklearn\\cluster\\_kmeans.py:1382: UserWarning: KMeans is known to have a memory leak on Windows with MKL, when there are less chunks than available threads. You can avoid it by setting the environment variable OMP_NUM_THREADS=5.\n",
      "  warnings.warn(\n"
     ]
    }
   ],
   "source": [
    "from code.feature_engineer import FeatureEngineer \n",
    "\n",
    " # Create an instance of FeatureEngineer\n",
    "FeatureEngineer = FeatureEngineer()\n",
    "\n",
    "# Apply feature engineering using the main function\n",
    "df_model = FeatureEngineer.transform(df_Clients_Accounts,df_Payments)"
   ]
  },
  {
   "cell_type": "code",
   "execution_count": 4,
   "metadata": {},
   "outputs": [
    {
     "data": {
      "text/plain": [
       "['down_payment',\n",
       " 'down_payment_days_included',\n",
       " 'minimum_payment',\n",
       " 'full_price',\n",
       " 'payment_amount_per_period',\n",
       " 'payment_period_in_days',\n",
       " 'nominal_term_days',\n",
       " 'total_paid',\n",
       " 'mean_income',\n",
       " 'age',\n",
       " 'num_payment_term',\n",
       " 'max_payment_list',\n",
       " 'mean_payment_list']"
      ]
     },
     "execution_count": 4,
     "metadata": {},
     "output_type": "execute_result"
    }
   ],
   "source": [
    "FeatureEngineer.numerical_feature"
   ]
  },
  {
   "cell_type": "code",
   "execution_count": 5,
   "metadata": {},
   "outputs": [
    {
     "data": {
      "text/plain": [
       "['product_size',\n",
       " 'state',\n",
       " 'gender',\n",
       " 'occupation',\n",
       " 'business_type',\n",
       " 'business_size',\n",
       " 'lead_source',\n",
       " 'product_use',\n",
       " 'registration_date_year',\n",
       " 'registration_date_month',\n",
       " 'registration_date_weekday',\n",
       " 'latest_payment_date_year',\n",
       " 'latest_payment_date_month',\n",
       " 'latest_payment_date_weekday',\n",
       " 'geo_cluster']"
      ]
     },
     "execution_count": 5,
     "metadata": {},
     "output_type": "execute_result"
    }
   ],
   "source": [
    "FeatureEngineer.categorical_feature"
   ]
  },
  {
   "cell_type": "code",
   "execution_count": 6,
   "metadata": {},
   "outputs": [
    {
     "data": {
      "text/plain": [
       "{'target1': 'default_ratio', 'target2': 'default'}"
      ]
     },
     "execution_count": 6,
     "metadata": {},
     "output_type": "execute_result"
    }
   ],
   "source": [
    "FeatureEngineer.target"
   ]
  },
  {
   "cell_type": "code",
   "execution_count": 31,
   "metadata": {},
   "outputs": [
    {
     "data": {
      "text/plain": [
       "down_payment                      0\n",
       "down_payment_days_included      191\n",
       "minimum_payment                   0\n",
       "full_price                        0\n",
       "payment_amount_per_period         0\n",
       "payment_period_in_days          191\n",
       "nominal_term_days                 0\n",
       "total_paid                        0\n",
       "mean_income                     361\n",
       "age                             962\n",
       "num_payment_term                  2\n",
       "max_payment_list                  2\n",
       "mean_payment_list                 2\n",
       "product_size                      0\n",
       "state                             1\n",
       "gender                          103\n",
       "occupation                      626\n",
       "business_type                   279\n",
       "business_size                  1253\n",
       "lead_source                    1569\n",
       "product_use                    1410\n",
       "registration_date_year            0\n",
       "registration_date_month           0\n",
       "registration_date_weekday         0\n",
       "latest_payment_date_year          2\n",
       "latest_payment_date_month         2\n",
       "latest_payment_date_weekday       2\n",
       "geo_cluster                       0\n",
       "default_ratio                     0\n",
       "default                           0\n",
       "dtype: int64"
      ]
     },
     "execution_count": 31,
     "metadata": {},
     "output_type": "execute_result"
    }
   ],
   "source": [
    "df_model.isna().sum()"
   ]
  },
  {
   "cell_type": "markdown",
   "metadata": {},
   "source": [
    "# Classification Model"
   ]
  },
  {
   "cell_type": "code",
   "execution_count": 7,
   "metadata": {},
   "outputs": [],
   "source": [
    "%matplotlib inline\n",
    "np.set_printoptions(precision=3)\n",
    "\n",
    "from sklearn.model_selection import train_test_split, GridSearchCV\n",
    "from sklearn.pipeline import make_pipeline\n",
    "from sklearn.preprocessing import StandardScaler, OneHotEncoder\n",
    "from sklearn.compose import make_column_transformer\n",
    "from sklearn.impute import SimpleImputer\n",
    "from sklearn.metrics import f1_score, make_scorer"
   ]
  },
  {
   "cell_type": "code",
   "execution_count": 21,
   "metadata": {},
   "outputs": [
    {
     "data": {
      "text/plain": [
       "{'randomforestclassifier__max_features': [2, 4, 6, 8, 10],\n",
       " 'randomforestclassifier__max_depth': [6, 8, 10, 12, 14]}"
      ]
     },
     "execution_count": 21,
     "metadata": {},
     "output_type": "execute_result"
    },
    {
     "data": {
      "text/html": [
       "<style>#sk-container-id-4 {color: black;background-color: white;}#sk-container-id-4 pre{padding: 0;}#sk-container-id-4 div.sk-toggleable {background-color: white;}#sk-container-id-4 label.sk-toggleable__label {cursor: pointer;display: block;width: 100%;margin-bottom: 0;padding: 0.3em;box-sizing: border-box;text-align: center;}#sk-container-id-4 label.sk-toggleable__label-arrow:before {content: \"▸\";float: left;margin-right: 0.25em;color: #696969;}#sk-container-id-4 label.sk-toggleable__label-arrow:hover:before {color: black;}#sk-container-id-4 div.sk-estimator:hover label.sk-toggleable__label-arrow:before {color: black;}#sk-container-id-4 div.sk-toggleable__content {max-height: 0;max-width: 0;overflow: hidden;text-align: left;background-color: #f0f8ff;}#sk-container-id-4 div.sk-toggleable__content pre {margin: 0.2em;color: black;border-radius: 0.25em;background-color: #f0f8ff;}#sk-container-id-4 input.sk-toggleable__control:checked~div.sk-toggleable__content {max-height: 200px;max-width: 100%;overflow: auto;}#sk-container-id-4 input.sk-toggleable__control:checked~label.sk-toggleable__label-arrow:before {content: \"▾\";}#sk-container-id-4 div.sk-estimator input.sk-toggleable__control:checked~label.sk-toggleable__label {background-color: #d4ebff;}#sk-container-id-4 div.sk-label input.sk-toggleable__control:checked~label.sk-toggleable__label {background-color: #d4ebff;}#sk-container-id-4 input.sk-hidden--visually {border: 0;clip: rect(1px 1px 1px 1px);clip: rect(1px, 1px, 1px, 1px);height: 1px;margin: -1px;overflow: hidden;padding: 0;position: absolute;width: 1px;}#sk-container-id-4 div.sk-estimator {font-family: monospace;background-color: #f0f8ff;border: 1px dotted black;border-radius: 0.25em;box-sizing: border-box;margin-bottom: 0.5em;}#sk-container-id-4 div.sk-estimator:hover {background-color: #d4ebff;}#sk-container-id-4 div.sk-parallel-item::after {content: \"\";width: 100%;border-bottom: 1px solid gray;flex-grow: 1;}#sk-container-id-4 div.sk-label:hover label.sk-toggleable__label {background-color: #d4ebff;}#sk-container-id-4 div.sk-serial::before {content: \"\";position: absolute;border-left: 1px solid gray;box-sizing: border-box;top: 0;bottom: 0;left: 50%;z-index: 0;}#sk-container-id-4 div.sk-serial {display: flex;flex-direction: column;align-items: center;background-color: white;padding-right: 0.2em;padding-left: 0.2em;position: relative;}#sk-container-id-4 div.sk-item {position: relative;z-index: 1;}#sk-container-id-4 div.sk-parallel {display: flex;align-items: stretch;justify-content: center;background-color: white;position: relative;}#sk-container-id-4 div.sk-item::before, #sk-container-id-4 div.sk-parallel-item::before {content: \"\";position: absolute;border-left: 1px solid gray;box-sizing: border-box;top: 0;bottom: 0;left: 50%;z-index: -1;}#sk-container-id-4 div.sk-parallel-item {display: flex;flex-direction: column;z-index: 1;position: relative;background-color: white;}#sk-container-id-4 div.sk-parallel-item:first-child::after {align-self: flex-end;width: 50%;}#sk-container-id-4 div.sk-parallel-item:last-child::after {align-self: flex-start;width: 50%;}#sk-container-id-4 div.sk-parallel-item:only-child::after {width: 0;}#sk-container-id-4 div.sk-dashed-wrapped {border: 1px dashed gray;margin: 0 0.4em 0.5em 0.4em;box-sizing: border-box;padding-bottom: 0.4em;background-color: white;}#sk-container-id-4 div.sk-label label {font-family: monospace;font-weight: bold;display: inline-block;line-height: 1.2em;}#sk-container-id-4 div.sk-label-container {text-align: center;}#sk-container-id-4 div.sk-container {/* jupyter's `normalize.less` sets `[hidden] { display: none; }` but bootstrap.min.css set `[hidden] { display: none !important; }` so we also need the `!important` here to be able to override the default hidden behavior on the sphinx rendered scikit-learn.org. See: https://github.com/scikit-learn/scikit-learn/issues/21755 */display: inline-block !important;position: relative;}#sk-container-id-4 div.sk-text-repr-fallback {display: none;}</style><div id=\"sk-container-id-4\" class=\"sk-top-container\"><div class=\"sk-text-repr-fallback\"><pre>GridSearchCV(cv=5,\n",
       "             estimator=Pipeline(steps=[(&#x27;columntransformer&#x27;,\n",
       "                                        ColumnTransformer(transformers=[(&#x27;pipeline-1&#x27;,\n",
       "                                                                         Pipeline(steps=[(&#x27;simpleimputer&#x27;,\n",
       "                                                                                          SimpleImputer(strategy=&#x27;most_frequent&#x27;)),\n",
       "                                                                                         (&#x27;onehotencoder&#x27;,\n",
       "                                                                                          OneHotEncoder(handle_unknown=&#x27;ignore&#x27;))]),\n",
       "                                                                         [&#x27;product_size&#x27;,\n",
       "                                                                          &#x27;state&#x27;,\n",
       "                                                                          &#x27;gender&#x27;,\n",
       "                                                                          &#x27;occupation&#x27;,\n",
       "                                                                          &#x27;business_type&#x27;,\n",
       "                                                                          &#x27;business_size&#x27;,\n",
       "                                                                          &#x27;lead_source&#x27;,\n",
       "                                                                          &#x27;product_use&#x27;,...\n",
       "                                                                          &#x27;nominal_term_days&#x27;,\n",
       "                                                                          &#x27;total_paid&#x27;,\n",
       "                                                                          &#x27;mean_income&#x27;,\n",
       "                                                                          &#x27;age&#x27;,\n",
       "                                                                          &#x27;num_payment_term&#x27;,\n",
       "                                                                          &#x27;max_payment_list&#x27;,\n",
       "                                                                          &#x27;mean_payment_list&#x27;])])),\n",
       "                                       (&#x27;randomforestclassifier&#x27;,\n",
       "                                        RandomForestClassifier())]),\n",
       "             param_grid={&#x27;randomforestclassifier__max_depth&#x27;: [6, 8, 10, 12,\n",
       "                                                               14],\n",
       "                         &#x27;randomforestclassifier__max_features&#x27;: [2, 4, 6, 8,\n",
       "                                                                  10]},\n",
       "             return_train_score=True,\n",
       "             scoring=make_scorer(f1_score, average=micro))</pre><b>In a Jupyter environment, please rerun this cell to show the HTML representation or trust the notebook. <br />On GitHub, the HTML representation is unable to render, please try loading this page with nbviewer.org.</b></div><div class=\"sk-container\" hidden><div class=\"sk-item sk-dashed-wrapped\"><div class=\"sk-label-container\"><div class=\"sk-label sk-toggleable\"><input class=\"sk-toggleable__control sk-hidden--visually\" id=\"sk-estimator-id-28\" type=\"checkbox\" ><label for=\"sk-estimator-id-28\" class=\"sk-toggleable__label sk-toggleable__label-arrow\">GridSearchCV</label><div class=\"sk-toggleable__content\"><pre>GridSearchCV(cv=5,\n",
       "             estimator=Pipeline(steps=[(&#x27;columntransformer&#x27;,\n",
       "                                        ColumnTransformer(transformers=[(&#x27;pipeline-1&#x27;,\n",
       "                                                                         Pipeline(steps=[(&#x27;simpleimputer&#x27;,\n",
       "                                                                                          SimpleImputer(strategy=&#x27;most_frequent&#x27;)),\n",
       "                                                                                         (&#x27;onehotencoder&#x27;,\n",
       "                                                                                          OneHotEncoder(handle_unknown=&#x27;ignore&#x27;))]),\n",
       "                                                                         [&#x27;product_size&#x27;,\n",
       "                                                                          &#x27;state&#x27;,\n",
       "                                                                          &#x27;gender&#x27;,\n",
       "                                                                          &#x27;occupation&#x27;,\n",
       "                                                                          &#x27;business_type&#x27;,\n",
       "                                                                          &#x27;business_size&#x27;,\n",
       "                                                                          &#x27;lead_source&#x27;,\n",
       "                                                                          &#x27;product_use&#x27;,...\n",
       "                                                                          &#x27;nominal_term_days&#x27;,\n",
       "                                                                          &#x27;total_paid&#x27;,\n",
       "                                                                          &#x27;mean_income&#x27;,\n",
       "                                                                          &#x27;age&#x27;,\n",
       "                                                                          &#x27;num_payment_term&#x27;,\n",
       "                                                                          &#x27;max_payment_list&#x27;,\n",
       "                                                                          &#x27;mean_payment_list&#x27;])])),\n",
       "                                       (&#x27;randomforestclassifier&#x27;,\n",
       "                                        RandomForestClassifier())]),\n",
       "             param_grid={&#x27;randomforestclassifier__max_depth&#x27;: [6, 8, 10, 12,\n",
       "                                                               14],\n",
       "                         &#x27;randomforestclassifier__max_features&#x27;: [2, 4, 6, 8,\n",
       "                                                                  10]},\n",
       "             return_train_score=True,\n",
       "             scoring=make_scorer(f1_score, average=micro))</pre></div></div></div><div class=\"sk-parallel\"><div class=\"sk-parallel-item\"><div class=\"sk-item\"><div class=\"sk-label-container\"><div class=\"sk-label sk-toggleable\"><input class=\"sk-toggleable__control sk-hidden--visually\" id=\"sk-estimator-id-29\" type=\"checkbox\" ><label for=\"sk-estimator-id-29\" class=\"sk-toggleable__label sk-toggleable__label-arrow\">estimator: Pipeline</label><div class=\"sk-toggleable__content\"><pre>Pipeline(steps=[(&#x27;columntransformer&#x27;,\n",
       "                 ColumnTransformer(transformers=[(&#x27;pipeline-1&#x27;,\n",
       "                                                  Pipeline(steps=[(&#x27;simpleimputer&#x27;,\n",
       "                                                                   SimpleImputer(strategy=&#x27;most_frequent&#x27;)),\n",
       "                                                                  (&#x27;onehotencoder&#x27;,\n",
       "                                                                   OneHotEncoder(handle_unknown=&#x27;ignore&#x27;))]),\n",
       "                                                  [&#x27;product_size&#x27;, &#x27;state&#x27;,\n",
       "                                                   &#x27;gender&#x27;, &#x27;occupation&#x27;,\n",
       "                                                   &#x27;business_type&#x27;,\n",
       "                                                   &#x27;business_size&#x27;,\n",
       "                                                   &#x27;lead_source&#x27;, &#x27;product_use&#x27;,\n",
       "                                                   &#x27;registration_date_year&#x27;,\n",
       "                                                   &#x27;re...\n",
       "                                                  Pipeline(steps=[(&#x27;simpleimputer&#x27;,\n",
       "                                                                   SimpleImputer())]),\n",
       "                                                  [&#x27;down_payment&#x27;,\n",
       "                                                   &#x27;down_payment_days_included&#x27;,\n",
       "                                                   &#x27;minimum_payment&#x27;,\n",
       "                                                   &#x27;full_price&#x27;,\n",
       "                                                   &#x27;payment_amount_per_period&#x27;,\n",
       "                                                   &#x27;payment_period_in_days&#x27;,\n",
       "                                                   &#x27;nominal_term_days&#x27;,\n",
       "                                                   &#x27;total_paid&#x27;, &#x27;mean_income&#x27;,\n",
       "                                                   &#x27;age&#x27;, &#x27;num_payment_term&#x27;,\n",
       "                                                   &#x27;max_payment_list&#x27;,\n",
       "                                                   &#x27;mean_payment_list&#x27;])])),\n",
       "                (&#x27;randomforestclassifier&#x27;, RandomForestClassifier())])</pre></div></div></div><div class=\"sk-serial\"><div class=\"sk-item\"><div class=\"sk-serial\"><div class=\"sk-item sk-dashed-wrapped\"><div class=\"sk-label-container\"><div class=\"sk-label sk-toggleable\"><input class=\"sk-toggleable__control sk-hidden--visually\" id=\"sk-estimator-id-30\" type=\"checkbox\" ><label for=\"sk-estimator-id-30\" class=\"sk-toggleable__label sk-toggleable__label-arrow\">columntransformer: ColumnTransformer</label><div class=\"sk-toggleable__content\"><pre>ColumnTransformer(transformers=[(&#x27;pipeline-1&#x27;,\n",
       "                                 Pipeline(steps=[(&#x27;simpleimputer&#x27;,\n",
       "                                                  SimpleImputer(strategy=&#x27;most_frequent&#x27;)),\n",
       "                                                 (&#x27;onehotencoder&#x27;,\n",
       "                                                  OneHotEncoder(handle_unknown=&#x27;ignore&#x27;))]),\n",
       "                                 [&#x27;product_size&#x27;, &#x27;state&#x27;, &#x27;gender&#x27;,\n",
       "                                  &#x27;occupation&#x27;, &#x27;business_type&#x27;,\n",
       "                                  &#x27;business_size&#x27;, &#x27;lead_source&#x27;, &#x27;product_use&#x27;,\n",
       "                                  &#x27;registration_date_year&#x27;,\n",
       "                                  &#x27;registration_date_month&#x27;,\n",
       "                                  &#x27;registration_...\n",
       "                                  &#x27;latest_payment_date_weekday&#x27;,\n",
       "                                  &#x27;geo_cluster&#x27;]),\n",
       "                                (&#x27;pipeline-2&#x27;,\n",
       "                                 Pipeline(steps=[(&#x27;simpleimputer&#x27;,\n",
       "                                                  SimpleImputer())]),\n",
       "                                 [&#x27;down_payment&#x27;, &#x27;down_payment_days_included&#x27;,\n",
       "                                  &#x27;minimum_payment&#x27;, &#x27;full_price&#x27;,\n",
       "                                  &#x27;payment_amount_per_period&#x27;,\n",
       "                                  &#x27;payment_period_in_days&#x27;, &#x27;nominal_term_days&#x27;,\n",
       "                                  &#x27;total_paid&#x27;, &#x27;mean_income&#x27;, &#x27;age&#x27;,\n",
       "                                  &#x27;num_payment_term&#x27;, &#x27;max_payment_list&#x27;,\n",
       "                                  &#x27;mean_payment_list&#x27;])])</pre></div></div></div><div class=\"sk-parallel\"><div class=\"sk-parallel-item\"><div class=\"sk-item\"><div class=\"sk-label-container\"><div class=\"sk-label sk-toggleable\"><input class=\"sk-toggleable__control sk-hidden--visually\" id=\"sk-estimator-id-31\" type=\"checkbox\" ><label for=\"sk-estimator-id-31\" class=\"sk-toggleable__label sk-toggleable__label-arrow\">pipeline-1</label><div class=\"sk-toggleable__content\"><pre>[&#x27;product_size&#x27;, &#x27;state&#x27;, &#x27;gender&#x27;, &#x27;occupation&#x27;, &#x27;business_type&#x27;, &#x27;business_size&#x27;, &#x27;lead_source&#x27;, &#x27;product_use&#x27;, &#x27;registration_date_year&#x27;, &#x27;registration_date_month&#x27;, &#x27;registration_date_weekday&#x27;, &#x27;latest_payment_date_year&#x27;, &#x27;latest_payment_date_month&#x27;, &#x27;latest_payment_date_weekday&#x27;, &#x27;geo_cluster&#x27;]</pre></div></div></div><div class=\"sk-serial\"><div class=\"sk-item\"><div class=\"sk-serial\"><div class=\"sk-item\"><div class=\"sk-estimator sk-toggleable\"><input class=\"sk-toggleable__control sk-hidden--visually\" id=\"sk-estimator-id-32\" type=\"checkbox\" ><label for=\"sk-estimator-id-32\" class=\"sk-toggleable__label sk-toggleable__label-arrow\">SimpleImputer</label><div class=\"sk-toggleable__content\"><pre>SimpleImputer(strategy=&#x27;most_frequent&#x27;)</pre></div></div></div><div class=\"sk-item\"><div class=\"sk-estimator sk-toggleable\"><input class=\"sk-toggleable__control sk-hidden--visually\" id=\"sk-estimator-id-33\" type=\"checkbox\" ><label for=\"sk-estimator-id-33\" class=\"sk-toggleable__label sk-toggleable__label-arrow\">OneHotEncoder</label><div class=\"sk-toggleable__content\"><pre>OneHotEncoder(handle_unknown=&#x27;ignore&#x27;)</pre></div></div></div></div></div></div></div></div><div class=\"sk-parallel-item\"><div class=\"sk-item\"><div class=\"sk-label-container\"><div class=\"sk-label sk-toggleable\"><input class=\"sk-toggleable__control sk-hidden--visually\" id=\"sk-estimator-id-34\" type=\"checkbox\" ><label for=\"sk-estimator-id-34\" class=\"sk-toggleable__label sk-toggleable__label-arrow\">pipeline-2</label><div class=\"sk-toggleable__content\"><pre>[&#x27;down_payment&#x27;, &#x27;down_payment_days_included&#x27;, &#x27;minimum_payment&#x27;, &#x27;full_price&#x27;, &#x27;payment_amount_per_period&#x27;, &#x27;payment_period_in_days&#x27;, &#x27;nominal_term_days&#x27;, &#x27;total_paid&#x27;, &#x27;mean_income&#x27;, &#x27;age&#x27;, &#x27;num_payment_term&#x27;, &#x27;max_payment_list&#x27;, &#x27;mean_payment_list&#x27;]</pre></div></div></div><div class=\"sk-serial\"><div class=\"sk-item\"><div class=\"sk-serial\"><div class=\"sk-item\"><div class=\"sk-estimator sk-toggleable\"><input class=\"sk-toggleable__control sk-hidden--visually\" id=\"sk-estimator-id-35\" type=\"checkbox\" ><label for=\"sk-estimator-id-35\" class=\"sk-toggleable__label sk-toggleable__label-arrow\">SimpleImputer</label><div class=\"sk-toggleable__content\"><pre>SimpleImputer()</pre></div></div></div></div></div></div></div></div></div></div><div class=\"sk-item\"><div class=\"sk-estimator sk-toggleable\"><input class=\"sk-toggleable__control sk-hidden--visually\" id=\"sk-estimator-id-36\" type=\"checkbox\" ><label for=\"sk-estimator-id-36\" class=\"sk-toggleable__label sk-toggleable__label-arrow\">RandomForestClassifier</label><div class=\"sk-toggleable__content\"><pre>RandomForestClassifier()</pre></div></div></div></div></div></div></div></div></div></div></div></div>"
      ],
      "text/plain": [
       "GridSearchCV(cv=5,\n",
       "             estimator=Pipeline(steps=[('columntransformer',\n",
       "                                        ColumnTransformer(transformers=[('pipeline-1',\n",
       "                                                                         Pipeline(steps=[('simpleimputer',\n",
       "                                                                                          SimpleImputer(strategy='most_frequent')),\n",
       "                                                                                         ('onehotencoder',\n",
       "                                                                                          OneHotEncoder(handle_unknown='ignore'))]),\n",
       "                                                                         ['product_size',\n",
       "                                                                          'state',\n",
       "                                                                          'gender',\n",
       "                                                                          'occupation',\n",
       "                                                                          'business_type',\n",
       "                                                                          'business_size',\n",
       "                                                                          'lead_source',\n",
       "                                                                          'product_use',...\n",
       "                                                                          'nominal_term_days',\n",
       "                                                                          'total_paid',\n",
       "                                                                          'mean_income',\n",
       "                                                                          'age',\n",
       "                                                                          'num_payment_term',\n",
       "                                                                          'max_payment_list',\n",
       "                                                                          'mean_payment_list'])])),\n",
       "                                       ('randomforestclassifier',\n",
       "                                        RandomForestClassifier())]),\n",
       "             param_grid={'randomforestclassifier__max_depth': [6, 8, 10, 12,\n",
       "                                                               14],\n",
       "                         'randomforestclassifier__max_features': [2, 4, 6, 8,\n",
       "                                                                  10]},\n",
       "             return_train_score=True,\n",
       "             scoring=make_scorer(f1_score, average=micro))"
      ]
     },
     "execution_count": 21,
     "metadata": {},
     "output_type": "execute_result"
    },
    {
     "name": "stdout",
     "output_type": "stream",
     "text": [
      "The best parameters on validation set is: {'randomforestclassifier__max_depth': 14, 'randomforestclassifier__max_features': 10}\n",
      "accuracy on test set: 0.840659\n"
     ]
    }
   ],
   "source": [
    "X = df_model.drop([\"default_ratio\",\"default\"], axis=1)\n",
    "y = df_model[\"default\"]\n",
    "\n",
    "X_train_val, X_test, y_train_val, y_test = train_test_split(\n",
    "    X,y, test_size=0.1, random_state=0)\n",
    "X_train, X_val, y_train, y_val = train_test_split(\n",
    "    X_train_val,y_train_val, test_size=0.2, random_state=0)\n",
    "\n",
    "pipe_cat = make_pipeline( SimpleImputer(strategy='most_frequent'),OneHotEncoder(handle_unknown=\"ignore\"))\n",
    "pipe_num = make_pipeline(SimpleImputer())\n",
    "preprocessor = make_column_transformer( (pipe_cat, FeatureEngineer.categorical_feature),\n",
    "                                        (pipe_num, FeatureEngineer.numerical_feature) )\n",
    "\n",
    "from sklearn.ensemble import RandomForestClassifier\n",
    "\n",
    "pipe_rf = make_pipeline(preprocessor, RandomForestClassifier())\n",
    "\n",
    "np.set_printoptions(precision=6, suppress=True)\n",
    "param_grid = {'randomforestclassifier__max_features': [2,4,6,8,10],\n",
    "              'randomforestclassifier__max_depth': [6,8,10,12,14]}\n",
    "param_grid\n",
    "\n",
    "# Define F1 score as the evaluation metric\n",
    "f1_scorer = make_scorer(f1_score, average='micro')\n",
    "\n",
    "grid_rf = GridSearchCV(pipe_rf, param_grid=param_grid, cv=5, scoring=f1_scorer, return_train_score=True)\n",
    "grid_rf.fit(X_train_val, y_train_val)\n",
    "\n",
    "print(f\"The best parameters on validation set is: {grid_rf.best_params_}\")\n",
    "print(\"accuracy on test set: %f\" % grid_rf.score(X_test, y_test))"
   ]
  },
  {
   "cell_type": "code",
   "execution_count": 22,
   "metadata": {},
   "outputs": [
    {
     "name": "stdout",
     "output_type": "stream",
     "text": [
      "Decision tree\n",
      "               precision    recall  f1-score   support\n",
      "\n",
      "           0       0.83      0.99      0.90       135\n",
      "           1       0.91      0.43      0.58        47\n",
      "\n",
      "    accuracy                           0.84       182\n",
      "   macro avg       0.87      0.71      0.74       182\n",
      "weighted avg       0.85      0.84      0.82       182\n",
      "\n"
     ]
    }
   ],
   "source": [
    "from sklearn.metrics import classification_report\n",
    "\n",
    "y_pred = grid_rf.predict(X_test)\n",
    "# Combined report \n",
    "print('Decision tree\\n', \n",
    "      classification_report(y_test, y_pred, target_names = ['0', '1']))"
   ]
  },
  {
   "cell_type": "markdown",
   "metadata": {},
   "source": [
    "## SMOTE"
   ]
  },
  {
   "cell_type": "code",
   "execution_count": 23,
   "metadata": {},
   "outputs": [
    {
     "name": "stdout",
     "output_type": "stream",
     "text": [
      "Decision tree\n",
      "               precision    recall  f1-score   support\n",
      "\n",
      "           0       0.88      0.97      0.92       135\n",
      "           1       0.88      0.62      0.73        47\n",
      "\n",
      "    accuracy                           0.88       182\n",
      "   macro avg       0.88      0.79      0.82       182\n",
      "weighted avg       0.88      0.88      0.87       182\n",
      "\n"
     ]
    }
   ],
   "source": [
    "from imblearn.over_sampling import SMOTE\n",
    "from imblearn.pipeline import make_pipeline as make_imb_pipeline\n",
    "seed = 1\n",
    "\n",
    "# Create the function that can use for repetition work\n",
    "def SMOTE_model(X_train_val,y_train_val):\n",
    "    # Initialize SMOTE\n",
    "    smote = SMOTE(random_state=seed)\n",
    "\n",
    "    # Create a pipeline with SMOTE and preprocessing\n",
    "    pipe_smote = make_imb_pipeline(preprocessor, smote, RandomForestClassifier(n_jobs=-1))\n",
    "\n",
    "    # Define F1 score as the evaluation metric\n",
    "    f1_scorer = make_scorer(f1_score, average='micro')\n",
    "\n",
    "    # Apply SMOTE and Logistic Regression to generate synthetic samples and train the model\n",
    "    grid_rf = GridSearchCV(pipe_smote, param_grid=param_grid, cv=5, scoring=f1_scorer, return_train_score=True)\n",
    "    grid_rf.fit(X_train_val,y_train_val)\n",
    "    return(grid_rf)\n",
    "\n",
    "grid_rf = SMOTE_model(X_train_val,y_train_val)\n",
    "\n",
    "y_pred = grid_rf.predict(X_test)\n",
    "# Combined report \n",
    "print('Decision tree\\n', \n",
    "      classification_report(y_test, y_pred, target_names = ['0', '1']))"
   ]
  },
  {
   "cell_type": "markdown",
   "metadata": {},
   "source": [
    "## SMOTE with subsampling"
   ]
  },
  {
   "cell_type": "code",
   "execution_count": 24,
   "metadata": {},
   "outputs": [
    {
     "name": "stdout",
     "output_type": "stream",
     "text": [
      "Decision tree\n",
      "               precision    recall  f1-score   support\n",
      "\n",
      "           0       0.90      0.95      0.93       106\n",
      "           1       0.82      0.68      0.74        34\n",
      "\n",
      "    accuracy                           0.89       140\n",
      "   macro avg       0.86      0.81      0.83       140\n",
      "weighted avg       0.88      0.89      0.88       140\n",
      "\n"
     ]
    }
   ],
   "source": [
    "# subsampling the subset of target equal to 0 by 70%\n",
    "percentage = 0.7\n",
    "def zero_sample(df,target:str,percentage):\n",
    "    one = df[df[target]==1]\n",
    "    zero = df[df[target]==0]\n",
    "    zero = zero.sample(frac = percentage, random_state = seed) \n",
    "\n",
    "    df_sample = pd.concat([one, zero], ignore_index=True)\n",
    "\n",
    "    # Separate features and target\n",
    "    df2 = df_sample.copy()\n",
    "    X = df2.drop([\"default\",\"default_ratio\"], axis=1)\n",
    "    y = df2[target]\n",
    "    return(X,y)\n",
    "\n",
    "X,y = zero_sample(df_model,\"default\",percentage)\n",
    "\n",
    "# Perform a stratified split on the target variable\n",
    "X_train_val, X_test, y_train_val, y_test = train_test_split(X, y, test_size=0.1, random_state=seed)\n",
    "\n",
    "grid_rf = SMOTE_model(X_train_val,y_train_val)\n",
    "\n",
    "y_pred = grid_rf.predict(X_test)\n",
    "# Combined report \n",
    "print('Decision tree\\n', \n",
    "      classification_report(y_test, y_pred, target_names = ['0', '1']))\n"
   ]
  },
  {
   "cell_type": "code",
   "execution_count": 25,
   "metadata": {},
   "outputs": [
    {
     "data": {
      "text/plain": [
       "<Figure size 1000x600 with 0 Axes>"
      ]
     },
     "execution_count": 25,
     "metadata": {},
     "output_type": "execute_result"
    },
    {
     "data": {
      "text/plain": [
       "<BarContainer object of 14 artists>"
      ]
     },
     "execution_count": 25,
     "metadata": {},
     "output_type": "execute_result"
    },
    {
     "data": {
      "text/plain": [
       "Text(0.5, 0, 'Importance')"
      ]
     },
     "execution_count": 25,
     "metadata": {},
     "output_type": "execute_result"
    },
    {
     "data": {
      "text/plain": [
       "Text(0, 0.5, 'Feature')"
      ]
     },
     "execution_count": 25,
     "metadata": {},
     "output_type": "execute_result"
    },
    {
     "data": {
      "text/plain": [
       "Text(0.5, 1.0, 'Top 10% Feature Importances')"
      ]
     },
     "execution_count": 25,
     "metadata": {},
     "output_type": "execute_result"
    },
    {
     "data": {
      "image/png": "[encoded data removed]",
      "text/plain": [
       "<Figure size 1000x600 with 1 Axes>"
      ]
     },
     "metadata": {},
     "output_type": "display_data"
    }
   ],
   "source": [
    "# Get the best estimator from GridSearchCV\n",
    "best_rf_model = grid_rf.best_estimator_\n",
    "\n",
    "# Get the fitted preprocessor\n",
    "fitted_preprocessor = grid_rf.best_estimator_.named_steps['columntransformer']\n",
    "# Get the fitted OneHotEncoder\n",
    "fitted_onehot = fitted_preprocessor.named_transformers_['pipeline-1'].\\\n",
    "    named_steps['onehotencoder']\n",
    "# Get feature names from OneHotEncoder\n",
    "feature_names = fitted_onehot.get_feature_names_out(FeatureEngineer.categorical_feature)\\\n",
    "    .tolist()\n",
    "feature_names = feature_names + FeatureEngineer.numerical_feature\n",
    "\n",
    "# Get feature importances from the best estimator (randomforestclassifier)\n",
    "feature_importances = best_rf_model.named_steps['randomforestclassifier'].feature_importances_\n",
    "# Create a DataFrame to store feature names and their importances\n",
    "importance_df = pd.DataFrame({\n",
    "    'Feature': feature_names,\n",
    "    'Importance': feature_importances\n",
    "})\n",
    "\n",
    "# Sort the DataFrame by importance in descending order\n",
    "importance_df = importance_df.sort_values(by='Importance', ascending=False)\n",
    "\n",
    "num_features_to_keep = int(0.1 * len(importance_df))\n",
    "top_features = importance_df.iloc[:num_features_to_keep]\n",
    "\n",
    "plt.figure(figsize=(10, 6))\n",
    "plt.barh(top_features['Feature'], top_features['Importance'], color='skyblue')\n",
    "plt.xlabel('Importance')\n",
    "plt.ylabel('Feature')\n",
    "plt.title('Top 10% Feature Importances')\n",
    "plt.gca().invert_yaxis()\n",
    "plt.show()"
   ]
  },
  {
   "cell_type": "code",
   "execution_count": 28,
   "metadata": {},
   "outputs": [
    {
     "data": {
      "text/plain": [
       "array([[0.775949, 0.224051],\n",
       "       [0.673422, 0.326578],\n",
       "       [0.843847, 0.156153],\n",
       "       [0.728863, 0.271137],\n",
       "       [0.647976, 0.352024],\n",
       "       [0.796452, 0.203548],\n",
       "       [0.830083, 0.169917],\n",
       "       [0.822618, 0.177382],\n",
       "       [0.789914, 0.210086],\n",
       "       [0.704296, 0.295704]])"
      ]
     },
     "execution_count": 28,
     "metadata": {},
     "output_type": "execute_result"
    }
   ],
   "source": [
    "best_rf_model.predict_proba(X_test)[:10]"
   ]
  },
  {
   "cell_type": "markdown",
   "metadata": {},
   "source": [
    "# Regression Model"
   ]
  },
  {
   "cell_type": "code",
   "execution_count": 15,
   "metadata": {},
   "outputs": [
    {
     "data": {
      "text/html": [
       "<style>#sk-container-id-2 {color: black;background-color: white;}#sk-container-id-2 pre{padding: 0;}#sk-container-id-2 div.sk-toggleable {background-color: white;}#sk-container-id-2 label.sk-toggleable__label {cursor: pointer;display: block;width: 100%;margin-bottom: 0;padding: 0.3em;box-sizing: border-box;text-align: center;}#sk-container-id-2 label.sk-toggleable__label-arrow:before {content: \"▸\";float: left;margin-right: 0.25em;color: #696969;}#sk-container-id-2 label.sk-toggleable__label-arrow:hover:before {color: black;}#sk-container-id-2 div.sk-estimator:hover label.sk-toggleable__label-arrow:before {color: black;}#sk-container-id-2 div.sk-toggleable__content {max-height: 0;max-width: 0;overflow: hidden;text-align: left;background-color: #f0f8ff;}#sk-container-id-2 div.sk-toggleable__content pre {margin: 0.2em;color: black;border-radius: 0.25em;background-color: #f0f8ff;}#sk-container-id-2 input.sk-toggleable__control:checked~div.sk-toggleable__content {max-height: 200px;max-width: 100%;overflow: auto;}#sk-container-id-2 input.sk-toggleable__control:checked~label.sk-toggleable__label-arrow:before {content: \"▾\";}#sk-container-id-2 div.sk-estimator input.sk-toggleable__control:checked~label.sk-toggleable__label {background-color: #d4ebff;}#sk-container-id-2 div.sk-label input.sk-toggleable__control:checked~label.sk-toggleable__label {background-color: #d4ebff;}#sk-container-id-2 input.sk-hidden--visually {border: 0;clip: rect(1px 1px 1px 1px);clip: rect(1px, 1px, 1px, 1px);height: 1px;margin: -1px;overflow: hidden;padding: 0;position: absolute;width: 1px;}#sk-container-id-2 div.sk-estimator {font-family: monospace;background-color: #f0f8ff;border: 1px dotted black;border-radius: 0.25em;box-sizing: border-box;margin-bottom: 0.5em;}#sk-container-id-2 div.sk-estimator:hover {background-color: #d4ebff;}#sk-container-id-2 div.sk-parallel-item::after {content: \"\";width: 100%;border-bottom: 1px solid gray;flex-grow: 1;}#sk-container-id-2 div.sk-label:hover label.sk-toggleable__label {background-color: #d4ebff;}#sk-container-id-2 div.sk-serial::before {content: \"\";position: absolute;border-left: 1px solid gray;box-sizing: border-box;top: 0;bottom: 0;left: 50%;z-index: 0;}#sk-container-id-2 div.sk-serial {display: flex;flex-direction: column;align-items: center;background-color: white;padding-right: 0.2em;padding-left: 0.2em;position: relative;}#sk-container-id-2 div.sk-item {position: relative;z-index: 1;}#sk-container-id-2 div.sk-parallel {display: flex;align-items: stretch;justify-content: center;background-color: white;position: relative;}#sk-container-id-2 div.sk-item::before, #sk-container-id-2 div.sk-parallel-item::before {content: \"\";position: absolute;border-left: 1px solid gray;box-sizing: border-box;top: 0;bottom: 0;left: 50%;z-index: -1;}#sk-container-id-2 div.sk-parallel-item {display: flex;flex-direction: column;z-index: 1;position: relative;background-color: white;}#sk-container-id-2 div.sk-parallel-item:first-child::after {align-self: flex-end;width: 50%;}#sk-container-id-2 div.sk-parallel-item:last-child::after {align-self: flex-start;width: 50%;}#sk-container-id-2 div.sk-parallel-item:only-child::after {width: 0;}#sk-container-id-2 div.sk-dashed-wrapped {border: 1px dashed gray;margin: 0 0.4em 0.5em 0.4em;box-sizing: border-box;padding-bottom: 0.4em;background-color: white;}#sk-container-id-2 div.sk-label label {font-family: monospace;font-weight: bold;display: inline-block;line-height: 1.2em;}#sk-container-id-2 div.sk-label-container {text-align: center;}#sk-container-id-2 div.sk-container {/* jupyter's `normalize.less` sets `[hidden] { display: none; }` but bootstrap.min.css set `[hidden] { display: none !important; }` so we also need the `!important` here to be able to override the default hidden behavior on the sphinx rendered scikit-learn.org. See: https://github.com/scikit-learn/scikit-learn/issues/21755 */display: inline-block !important;position: relative;}#sk-container-id-2 div.sk-text-repr-fallback {display: none;}</style><div id=\"sk-container-id-2\" class=\"sk-top-container\"><div class=\"sk-text-repr-fallback\"><pre>GridSearchCV(cv=5,\n",
       "             estimator=Pipeline(steps=[(&#x27;columntransformer&#x27;,\n",
       "                                        ColumnTransformer(transformers=[(&#x27;pipeline-1&#x27;,\n",
       "                                                                         Pipeline(steps=[(&#x27;simpleimputer&#x27;,\n",
       "                                                                                          SimpleImputer(strategy=&#x27;most_frequent&#x27;)),\n",
       "                                                                                         (&#x27;onehotencoder&#x27;,\n",
       "                                                                                          OneHotEncoder(handle_unknown=&#x27;ignore&#x27;))]),\n",
       "                                                                         [&#x27;product_size&#x27;,\n",
       "                                                                          &#x27;state&#x27;,\n",
       "                                                                          &#x27;gender&#x27;,\n",
       "                                                                          &#x27;occupation&#x27;,\n",
       "                                                                          &#x27;business_type&#x27;,\n",
       "                                                                          &#x27;business_size&#x27;,\n",
       "                                                                          &#x27;lead_source&#x27;,\n",
       "                                                                          &#x27;product_use&#x27;,...\n",
       "                                                                          &#x27;payment_period_in_days&#x27;,\n",
       "                                                                          &#x27;nominal_term_days&#x27;,\n",
       "                                                                          &#x27;total_paid&#x27;,\n",
       "                                                                          &#x27;mean_income&#x27;,\n",
       "                                                                          &#x27;age&#x27;,\n",
       "                                                                          &#x27;num_payment_term&#x27;,\n",
       "                                                                          &#x27;max_payment_list&#x27;,\n",
       "                                                                          &#x27;mean_payment_list&#x27;])])),\n",
       "                                       (&#x27;randomforestregressor&#x27;,\n",
       "                                        RandomForestRegressor())]),\n",
       "             param_grid={&#x27;randomforestregressor__max_depth&#x27;: [6, 8, 10, 12, 14],\n",
       "                         &#x27;randomforestregressor__max_features&#x27;: [2, 4, 6, 8,\n",
       "                                                                 10]},\n",
       "             return_train_score=True, scoring=&#x27;neg_mean_squared_error&#x27;)</pre><b>In a Jupyter environment, please rerun this cell to show the HTML representation or trust the notebook. <br />On GitHub, the HTML representation is unable to render, please try loading this page with nbviewer.org.</b></div><div class=\"sk-container\" hidden><div class=\"sk-item sk-dashed-wrapped\"><div class=\"sk-label-container\"><div class=\"sk-label sk-toggleable\"><input class=\"sk-toggleable__control sk-hidden--visually\" id=\"sk-estimator-id-10\" type=\"checkbox\" ><label for=\"sk-estimator-id-10\" class=\"sk-toggleable__label sk-toggleable__label-arrow\">GridSearchCV</label><div class=\"sk-toggleable__content\"><pre>GridSearchCV(cv=5,\n",
       "             estimator=Pipeline(steps=[(&#x27;columntransformer&#x27;,\n",
       "                                        ColumnTransformer(transformers=[(&#x27;pipeline-1&#x27;,\n",
       "                                                                         Pipeline(steps=[(&#x27;simpleimputer&#x27;,\n",
       "                                                                                          SimpleImputer(strategy=&#x27;most_frequent&#x27;)),\n",
       "                                                                                         (&#x27;onehotencoder&#x27;,\n",
       "                                                                                          OneHotEncoder(handle_unknown=&#x27;ignore&#x27;))]),\n",
       "                                                                         [&#x27;product_size&#x27;,\n",
       "                                                                          &#x27;state&#x27;,\n",
       "                                                                          &#x27;gender&#x27;,\n",
       "                                                                          &#x27;occupation&#x27;,\n",
       "                                                                          &#x27;business_type&#x27;,\n",
       "                                                                          &#x27;business_size&#x27;,\n",
       "                                                                          &#x27;lead_source&#x27;,\n",
       "                                                                          &#x27;product_use&#x27;,...\n",
       "                                                                          &#x27;payment_period_in_days&#x27;,\n",
       "                                                                          &#x27;nominal_term_days&#x27;,\n",
       "                                                                          &#x27;total_paid&#x27;,\n",
       "                                                                          &#x27;mean_income&#x27;,\n",
       "                                                                          &#x27;age&#x27;,\n",
       "                                                                          &#x27;num_payment_term&#x27;,\n",
       "                                                                          &#x27;max_payment_list&#x27;,\n",
       "                                                                          &#x27;mean_payment_list&#x27;])])),\n",
       "                                       (&#x27;randomforestregressor&#x27;,\n",
       "                                        RandomForestRegressor())]),\n",
       "             param_grid={&#x27;randomforestregressor__max_depth&#x27;: [6, 8, 10, 12, 14],\n",
       "                         &#x27;randomforestregressor__max_features&#x27;: [2, 4, 6, 8,\n",
       "                                                                 10]},\n",
       "             return_train_score=True, scoring=&#x27;neg_mean_squared_error&#x27;)</pre></div></div></div><div class=\"sk-parallel\"><div class=\"sk-parallel-item\"><div class=\"sk-item\"><div class=\"sk-label-container\"><div class=\"sk-label sk-toggleable\"><input class=\"sk-toggleable__control sk-hidden--visually\" id=\"sk-estimator-id-11\" type=\"checkbox\" ><label for=\"sk-estimator-id-11\" class=\"sk-toggleable__label sk-toggleable__label-arrow\">estimator: Pipeline</label><div class=\"sk-toggleable__content\"><pre>Pipeline(steps=[(&#x27;columntransformer&#x27;,\n",
       "                 ColumnTransformer(transformers=[(&#x27;pipeline-1&#x27;,\n",
       "                                                  Pipeline(steps=[(&#x27;simpleimputer&#x27;,\n",
       "                                                                   SimpleImputer(strategy=&#x27;most_frequent&#x27;)),\n",
       "                                                                  (&#x27;onehotencoder&#x27;,\n",
       "                                                                   OneHotEncoder(handle_unknown=&#x27;ignore&#x27;))]),\n",
       "                                                  [&#x27;product_size&#x27;, &#x27;state&#x27;,\n",
       "                                                   &#x27;gender&#x27;, &#x27;occupation&#x27;,\n",
       "                                                   &#x27;business_type&#x27;,\n",
       "                                                   &#x27;business_size&#x27;,\n",
       "                                                   &#x27;lead_source&#x27;, &#x27;product_use&#x27;,\n",
       "                                                   &#x27;registration_date_year&#x27;,\n",
       "                                                   &#x27;re...\n",
       "                                                 (&#x27;pipeline-2&#x27;,\n",
       "                                                  Pipeline(steps=[(&#x27;simpleimputer&#x27;,\n",
       "                                                                   SimpleImputer())]),\n",
       "                                                  [&#x27;down_payment&#x27;,\n",
       "                                                   &#x27;down_payment_days_included&#x27;,\n",
       "                                                   &#x27;minimum_payment&#x27;,\n",
       "                                                   &#x27;full_price&#x27;,\n",
       "                                                   &#x27;payment_amount_per_period&#x27;,\n",
       "                                                   &#x27;payment_period_in_days&#x27;,\n",
       "                                                   &#x27;nominal_term_days&#x27;,\n",
       "                                                   &#x27;total_paid&#x27;, &#x27;mean_income&#x27;,\n",
       "                                                   &#x27;age&#x27;, &#x27;num_payment_term&#x27;,\n",
       "                                                   &#x27;max_payment_list&#x27;,\n",
       "                                                   &#x27;mean_payment_list&#x27;])])),\n",
       "                (&#x27;randomforestregressor&#x27;, RandomForestRegressor())])</pre></div></div></div><div class=\"sk-serial\"><div class=\"sk-item\"><div class=\"sk-serial\"><div class=\"sk-item sk-dashed-wrapped\"><div class=\"sk-label-container\"><div class=\"sk-label sk-toggleable\"><input class=\"sk-toggleable__control sk-hidden--visually\" id=\"sk-estimator-id-12\" type=\"checkbox\" ><label for=\"sk-estimator-id-12\" class=\"sk-toggleable__label sk-toggleable__label-arrow\">columntransformer: ColumnTransformer</label><div class=\"sk-toggleable__content\"><pre>ColumnTransformer(transformers=[(&#x27;pipeline-1&#x27;,\n",
       "                                 Pipeline(steps=[(&#x27;simpleimputer&#x27;,\n",
       "                                                  SimpleImputer(strategy=&#x27;most_frequent&#x27;)),\n",
       "                                                 (&#x27;onehotencoder&#x27;,\n",
       "                                                  OneHotEncoder(handle_unknown=&#x27;ignore&#x27;))]),\n",
       "                                 [&#x27;product_size&#x27;, &#x27;state&#x27;, &#x27;gender&#x27;,\n",
       "                                  &#x27;occupation&#x27;, &#x27;business_type&#x27;,\n",
       "                                  &#x27;business_size&#x27;, &#x27;lead_source&#x27;, &#x27;product_use&#x27;,\n",
       "                                  &#x27;registration_date_year&#x27;,\n",
       "                                  &#x27;registration_date_month&#x27;,\n",
       "                                  &#x27;registration_...\n",
       "                                  &#x27;latest_payment_date_weekday&#x27;,\n",
       "                                  &#x27;geo_cluster&#x27;]),\n",
       "                                (&#x27;pipeline-2&#x27;,\n",
       "                                 Pipeline(steps=[(&#x27;simpleimputer&#x27;,\n",
       "                                                  SimpleImputer())]),\n",
       "                                 [&#x27;down_payment&#x27;, &#x27;down_payment_days_included&#x27;,\n",
       "                                  &#x27;minimum_payment&#x27;, &#x27;full_price&#x27;,\n",
       "                                  &#x27;payment_amount_per_period&#x27;,\n",
       "                                  &#x27;payment_period_in_days&#x27;, &#x27;nominal_term_days&#x27;,\n",
       "                                  &#x27;total_paid&#x27;, &#x27;mean_income&#x27;, &#x27;age&#x27;,\n",
       "                                  &#x27;num_payment_term&#x27;, &#x27;max_payment_list&#x27;,\n",
       "                                  &#x27;mean_payment_list&#x27;])])</pre></div></div></div><div class=\"sk-parallel\"><div class=\"sk-parallel-item\"><div class=\"sk-item\"><div class=\"sk-label-container\"><div class=\"sk-label sk-toggleable\"><input class=\"sk-toggleable__control sk-hidden--visually\" id=\"sk-estimator-id-13\" type=\"checkbox\" ><label for=\"sk-estimator-id-13\" class=\"sk-toggleable__label sk-toggleable__label-arrow\">pipeline-1</label><div class=\"sk-toggleable__content\"><pre>[&#x27;product_size&#x27;, &#x27;state&#x27;, &#x27;gender&#x27;, &#x27;occupation&#x27;, &#x27;business_type&#x27;, &#x27;business_size&#x27;, &#x27;lead_source&#x27;, &#x27;product_use&#x27;, &#x27;registration_date_year&#x27;, &#x27;registration_date_month&#x27;, &#x27;registration_date_weekday&#x27;, &#x27;latest_payment_date_year&#x27;, &#x27;latest_payment_date_month&#x27;, &#x27;latest_payment_date_weekday&#x27;, &#x27;geo_cluster&#x27;]</pre></div></div></div><div class=\"sk-serial\"><div class=\"sk-item\"><div class=\"sk-serial\"><div class=\"sk-item\"><div class=\"sk-estimator sk-toggleable\"><input class=\"sk-toggleable__control sk-hidden--visually\" id=\"sk-estimator-id-14\" type=\"checkbox\" ><label for=\"sk-estimator-id-14\" class=\"sk-toggleable__label sk-toggleable__label-arrow\">SimpleImputer</label><div class=\"sk-toggleable__content\"><pre>SimpleImputer(strategy=&#x27;most_frequent&#x27;)</pre></div></div></div><div class=\"sk-item\"><div class=\"sk-estimator sk-toggleable\"><input class=\"sk-toggleable__control sk-hidden--visually\" id=\"sk-estimator-id-15\" type=\"checkbox\" ><label for=\"sk-estimator-id-15\" class=\"sk-toggleable__label sk-toggleable__label-arrow\">OneHotEncoder</label><div class=\"sk-toggleable__content\"><pre>OneHotEncoder(handle_unknown=&#x27;ignore&#x27;)</pre></div></div></div></div></div></div></div></div><div class=\"sk-parallel-item\"><div class=\"sk-item\"><div class=\"sk-label-container\"><div class=\"sk-label sk-toggleable\"><input class=\"sk-toggleable__control sk-hidden--visually\" id=\"sk-estimator-id-16\" type=\"checkbox\" ><label for=\"sk-estimator-id-16\" class=\"sk-toggleable__label sk-toggleable__label-arrow\">pipeline-2</label><div class=\"sk-toggleable__content\"><pre>[&#x27;down_payment&#x27;, &#x27;down_payment_days_included&#x27;, &#x27;minimum_payment&#x27;, &#x27;full_price&#x27;, &#x27;payment_amount_per_period&#x27;, &#x27;payment_period_in_days&#x27;, &#x27;nominal_term_days&#x27;, &#x27;total_paid&#x27;, &#x27;mean_income&#x27;, &#x27;age&#x27;, &#x27;num_payment_term&#x27;, &#x27;max_payment_list&#x27;, &#x27;mean_payment_list&#x27;]</pre></div></div></div><div class=\"sk-serial\"><div class=\"sk-item\"><div class=\"sk-serial\"><div class=\"sk-item\"><div class=\"sk-estimator sk-toggleable\"><input class=\"sk-toggleable__control sk-hidden--visually\" id=\"sk-estimator-id-17\" type=\"checkbox\" ><label for=\"sk-estimator-id-17\" class=\"sk-toggleable__label sk-toggleable__label-arrow\">SimpleImputer</label><div class=\"sk-toggleable__content\"><pre>SimpleImputer()</pre></div></div></div></div></div></div></div></div></div></div><div class=\"sk-item\"><div class=\"sk-estimator sk-toggleable\"><input class=\"sk-toggleable__control sk-hidden--visually\" id=\"sk-estimator-id-18\" type=\"checkbox\" ><label for=\"sk-estimator-id-18\" class=\"sk-toggleable__label sk-toggleable__label-arrow\">RandomForestRegressor</label><div class=\"sk-toggleable__content\"><pre>RandomForestRegressor()</pre></div></div></div></div></div></div></div></div></div></div></div></div>"
      ],
      "text/plain": [
       "GridSearchCV(cv=5,\n",
       "             estimator=Pipeline(steps=[('columntransformer',\n",
       "                                        ColumnTransformer(transformers=[('pipeline-1',\n",
       "                                                                         Pipeline(steps=[('simpleimputer',\n",
       "                                                                                          SimpleImputer(strategy='most_frequent')),\n",
       "                                                                                         ('onehotencoder',\n",
       "                                                                                          OneHotEncoder(handle_unknown='ignore'))]),\n",
       "                                                                         ['product_size',\n",
       "                                                                          'state',\n",
       "                                                                          'gender',\n",
       "                                                                          'occupation',\n",
       "                                                                          'business_type',\n",
       "                                                                          'business_size',\n",
       "                                                                          'lead_source',\n",
       "                                                                          'product_use',...\n",
       "                                                                          'payment_period_in_days',\n",
       "                                                                          'nominal_term_days',\n",
       "                                                                          'total_paid',\n",
       "                                                                          'mean_income',\n",
       "                                                                          'age',\n",
       "                                                                          'num_payment_term',\n",
       "                                                                          'max_payment_list',\n",
       "                                                                          'mean_payment_list'])])),\n",
       "                                       ('randomforestregressor',\n",
       "                                        RandomForestRegressor())]),\n",
       "             param_grid={'randomforestregressor__max_depth': [6, 8, 10, 12, 14],\n",
       "                         'randomforestregressor__max_features': [2, 4, 6, 8,\n",
       "                                                                 10]},\n",
       "             return_train_score=True, scoring='neg_mean_squared_error')"
      ]
     },
     "execution_count": 15,
     "metadata": {},
     "output_type": "execute_result"
    },
    {
     "name": "stdout",
     "output_type": "stream",
     "text": [
      "Best RMSE: 0.15861569120358407\n"
     ]
    }
   ],
   "source": [
    "X = df_model.drop([\"default_ratio\",\"default\"], axis=1)\n",
    "y = df_model[\"default_ratio\"]\n",
    "\n",
    "X_train_val, X_test, y_train_val, y_test = train_test_split(\n",
    "    X,y, test_size=0.1, random_state=0)\n",
    "X_train, X_val, y_train, y_val = train_test_split(\n",
    "    X_train_val,y_train_val, test_size=0.2, random_state=0)\n",
    "\n",
    "from sklearn.ensemble import RandomForestRegressor\n",
    "\n",
    "pipe_rf = make_pipeline(preprocessor, RandomForestRegressor())\n",
    "\n",
    "np.set_printoptions(precision=6, suppress=True)\n",
    "\n",
    "param_grid = {'randomforestregressor__max_features': [2,4,6,8,10],\n",
    "              'randomforestregressor__max_depth': [6,8,10,12,14]}\n",
    "\n",
    "grid_rf = GridSearchCV(pipe_rf, param_grid=param_grid, cv=5, return_train_score=True, scoring='neg_mean_squared_error')\n",
    "grid_rf.fit(X_train_val, y_train_val)\n",
    "\n",
    "# The best_score_ will be negative MSE, so take the absolute value and square root\n",
    "best_rmse = np.sqrt(-grid_rf.best_score_)\n",
    "print(f'Best RMSE: {best_rmse}')"
   ]
  },
  {
   "cell_type": "code",
   "execution_count": 16,
   "metadata": {},
   "outputs": [
    {
     "data": {
      "text/html": [
       "<div>\n",
       "<style scoped>\n",
       "    .dataframe tbody tr th:only-of-type {\n",
       "        vertical-align: middle;\n",
       "    }\n",
       "\n",
       "    .dataframe tbody tr th {\n",
       "        vertical-align: top;\n",
       "    }\n",
       "\n",
       "    .dataframe thead th {\n",
       "        text-align: right;\n",
       "    }\n",
       "</style>\n",
       "<table border=\"1\" class=\"dataframe\">\n",
       "  <thead>\n",
       "    <tr style=\"text-align: right;\">\n",
       "      <th></th>\n",
       "      <th>y_pred</th>\n",
       "      <th>y_test</th>\n",
       "    </tr>\n",
       "  </thead>\n",
       "  <tbody>\n",
       "    <tr>\n",
       "      <th>970</th>\n",
       "      <td>0.132279</td>\n",
       "      <td>0.062500</td>\n",
       "    </tr>\n",
       "    <tr>\n",
       "      <th>1145</th>\n",
       "      <td>0.226758</td>\n",
       "      <td>0.273897</td>\n",
       "    </tr>\n",
       "    <tr>\n",
       "      <th>1743</th>\n",
       "      <td>0.027607</td>\n",
       "      <td>0.000000</td>\n",
       "    </tr>\n",
       "    <tr>\n",
       "      <th>542</th>\n",
       "      <td>0.191620</td>\n",
       "      <td>0.122249</td>\n",
       "    </tr>\n",
       "    <tr>\n",
       "      <th>1320</th>\n",
       "      <td>0.275285</td>\n",
       "      <td>0.253478</td>\n",
       "    </tr>\n",
       "    <tr>\n",
       "      <th>...</th>\n",
       "      <td>...</td>\n",
       "      <td>...</td>\n",
       "    </tr>\n",
       "    <tr>\n",
       "      <th>1334</th>\n",
       "      <td>0.034584</td>\n",
       "      <td>0.000000</td>\n",
       "    </tr>\n",
       "    <tr>\n",
       "      <th>1548</th>\n",
       "      <td>0.202750</td>\n",
       "      <td>0.106274</td>\n",
       "    </tr>\n",
       "    <tr>\n",
       "      <th>713</th>\n",
       "      <td>0.149731</td>\n",
       "      <td>0.561441</td>\n",
       "    </tr>\n",
       "    <tr>\n",
       "      <th>1737</th>\n",
       "      <td>0.196310</td>\n",
       "      <td>0.238612</td>\n",
       "    </tr>\n",
       "    <tr>\n",
       "      <th>844</th>\n",
       "      <td>0.106351</td>\n",
       "      <td>0.018182</td>\n",
       "    </tr>\n",
       "  </tbody>\n",
       "</table>\n",
       "<p>182 rows × 2 columns</p>\n",
       "</div>"
      ],
      "text/plain": [
       "        y_pred    y_test\n",
       "970   0.132279  0.062500\n",
       "1145  0.226758  0.273897\n",
       "1743  0.027607  0.000000\n",
       "542   0.191620  0.122249\n",
       "1320  0.275285  0.253478\n",
       "...        ...       ...\n",
       "1334  0.034584  0.000000\n",
       "1548  0.202750  0.106274\n",
       "713   0.149731  0.561441\n",
       "1737  0.196310  0.238612\n",
       "844   0.106351  0.018182\n",
       "\n",
       "[182 rows x 2 columns]"
      ]
     },
     "execution_count": 16,
     "metadata": {},
     "output_type": "execute_result"
    }
   ],
   "source": [
    "y_pred = grid_rf.predict(X_test)\n",
    "result_table = pd.DataFrame({'y_pred': y_pred, 'y_test': y_test})\n",
    "result_table"
   ]
  },
  {
   "cell_type": "code",
   "execution_count": 17,
   "metadata": {},
   "outputs": [
    {
     "data": {
      "text/plain": [
       "<Figure size 1000x600 with 0 Axes>"
      ]
     },
     "execution_count": 17,
     "metadata": {},
     "output_type": "execute_result"
    },
    {
     "data": {
      "text/plain": [
       "<BarContainer object of 15 artists>"
      ]
     },
     "execution_count": 17,
     "metadata": {},
     "output_type": "execute_result"
    },
    {
     "data": {
      "text/plain": [
       "Text(0.5, 0, 'Importance')"
      ]
     },
     "execution_count": 17,
     "metadata": {},
     "output_type": "execute_result"
    },
    {
     "data": {
      "text/plain": [
       "Text(0, 0.5, 'Feature')"
      ]
     },
     "execution_count": 17,
     "metadata": {},
     "output_type": "execute_result"
    },
    {
     "data": {
      "text/plain": [
       "Text(0.5, 1.0, 'Top 10% Feature Importances')"
      ]
     },
     "execution_count": 17,
     "metadata": {},
     "output_type": "execute_result"
    },
    {
     "data": {
      "image/png": "[encoded data removed]",
      "text/plain": [
       "<Figure size 1000x600 with 1 Axes>"
      ]
     },
     "metadata": {},
     "output_type": "display_data"
    }
   ],
   "source": [
    "# Get the best estimator from GridSearchCV\n",
    "best_rf_model = grid_rf.best_estimator_\n",
    "\n",
    "# Get the fitted preprocessor\n",
    "fitted_preprocessor = grid_rf.best_estimator_.named_steps['columntransformer']\n",
    "# Get the fitted OneHotEncoder\n",
    "fitted_onehot = fitted_preprocessor.named_transformers_['pipeline-1'].\\\n",
    "    named_steps['onehotencoder']\n",
    "# Get feature names from OneHotEncoder\n",
    "feature_names = fitted_onehot.get_feature_names_out(FeatureEngineer.categorical_feature)\\\n",
    "    .tolist()\n",
    "feature_names = feature_names + FeatureEngineer.numerical_feature\n",
    "\n",
    "# Get feature importances from the best estimator (randomforestregressor)\n",
    "feature_importances = best_rf_model.named_steps['randomforestregressor'].feature_importances_\n",
    "# Create a DataFrame to store feature names and their importances\n",
    "importance_df = pd.DataFrame({\n",
    "    'Feature': feature_names,\n",
    "    'Importance': feature_importances\n",
    "})\n",
    "\n",
    "# Sort the DataFrame by importance in descending order\n",
    "importance_df = importance_df.sort_values(by='Importance', ascending=False)\n",
    "\n",
    "num_features_to_keep = int(0.1 * len(importance_df))\n",
    "top_features = importance_df.iloc[:num_features_to_keep]\n",
    "\n",
    "plt.figure(figsize=(10, 6))\n",
    "plt.barh(top_features['Feature'], top_features['Importance'], color='skyblue')\n",
    "plt.xlabel('Importance')\n",
    "plt.ylabel('Feature')\n",
    "plt.title('Top 10% Feature Importances')\n",
    "plt.gca().invert_yaxis()\n",
    "plt.show()"
   ]
  },
  {
   "cell_type": "code",
   "execution_count": null,
   "metadata": {},
   "outputs": [],
   "source": []
  },
  {
   "cell_type": "code",
   "execution_count": null,
   "metadata": {},
   "outputs": [],
   "source": []
  }
 ],
 "metadata": {
  "kernelspec": {
   "display_name": "base",
   "language": "python",
   "name": "python3"
  },
  "language_info": {
   "codemirror_mode": {
    "name": "ipython",
    "version": 3
   },
   "file_extension": ".py",
   "mimetype": "text/x-python",
   "name": "python",
   "nbconvert_exporter": "python",
   "pygments_lexer": "ipython3",
   "version": "3.11.5"
  }
 },
 "nbformat": 4,
 "nbformat_minor": 2
}
